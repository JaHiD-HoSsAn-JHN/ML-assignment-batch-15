{
 "cells": [
  {
   "cell_type": "markdown",
   "id": "d37dbf03",
   "metadata": {},
   "source": [
    "# Take values of the length & breadth of a rectangle from user input and check if it is square or not.\n",
    "\n"
   ]
  },
  {
   "cell_type": "code",
   "execution_count": 1,
   "id": "16f053c7",
   "metadata": {},
   "outputs": [
    {
     "name": "stdout",
     "output_type": "stream",
     "text": [
      "enter length of the rectangle:6\n"
     ]
    }
   ],
   "source": [
    " length = int(input( \"enter length of the rectangle:\"))"
   ]
  },
  {
   "cell_type": "code",
   "execution_count": 2,
   "id": "4d5a2b3d",
   "metadata": {},
   "outputs": [
    {
     "name": "stdout",
     "output_type": "stream",
     "text": [
      "enter breadth of the rectengle:6\n"
     ]
    }
   ],
   "source": [
    " breadth = int(input(\"enter breadth of the rectengle:\"))"
   ]
  },
  {
   "cell_type": "code",
   "execution_count": 3,
   "id": "1b7ecc9f",
   "metadata": {},
   "outputs": [
    {
     "name": "stdout",
     "output_type": "stream",
     "text": [
      "the rectengle is square\n"
     ]
    }
   ],
   "source": [
    "if length == breadth:\n",
    "    print(\"the rectengle is square\")\n",
    "else:\n",
    "    print(\"the rectangle is not square\")"
   ]
  },
  {
   "cell_type": "markdown",
   "id": "95e4fd49",
   "metadata": {},
   "source": [
    "# done by ploat number"
   ]
  },
  {
   "cell_type": "code",
   "execution_count": 4,
   "id": "c12eadd8",
   "metadata": {},
   "outputs": [
    {
     "name": "stdout",
     "output_type": "stream",
     "text": [
      "enter length of the rectangle:6\n"
     ]
    }
   ],
   "source": [
    " length = float(input( \"enter length of the rectangle:\"))"
   ]
  },
  {
   "cell_type": "code",
   "execution_count": 5,
   "id": "3e09efd9",
   "metadata": {},
   "outputs": [
    {
     "name": "stdout",
     "output_type": "stream",
     "text": [
      "enter breadth of te rectangle:6.1\n"
     ]
    }
   ],
   "source": [
    " breadth = float(input( \"enter breadth of te rectangle:\"))"
   ]
  },
  {
   "cell_type": "code",
   "execution_count": 6,
   "id": "07230c4e",
   "metadata": {},
   "outputs": [
    {
     "name": "stdout",
     "output_type": "stream",
     "text": [
      "the rectangle is not square\n"
     ]
    }
   ],
   "source": [
    "if length == breadth:\n",
    "    print(\"the rectengle is square\")\n",
    "else:\n",
    "    print(\"the rectangle is not square\")"
   ]
  },
  {
   "cell_type": "markdown",
   "id": "c1f0a1ec",
   "metadata": {},
   "source": [
    "# 2-Take three integer values from the user and print the greatest among them."
   ]
  },
  {
   "cell_type": "code",
   "execution_count": 7,
   "id": "9ae0555a",
   "metadata": {},
   "outputs": [
    {
     "name": "stdout",
     "output_type": "stream",
     "text": [
      "enter the frist number:30\n"
     ]
    }
   ],
   "source": [
    "num1 = float(input('enter the frist number:'))"
   ]
  },
  {
   "cell_type": "code",
   "execution_count": 8,
   "id": "544fe254",
   "metadata": {},
   "outputs": [
    {
     "name": "stdout",
     "output_type": "stream",
     "text": [
      "enter the second number:20\n"
     ]
    }
   ],
   "source": [
    "num2 = float(input('enter the second number:'))"
   ]
  },
  {
   "cell_type": "code",
   "execution_count": 9,
   "id": "a24970ef",
   "metadata": {},
   "outputs": [
    {
     "name": "stdout",
     "output_type": "stream",
     "text": [
      "enter the third number:30.2\n"
     ]
    }
   ],
   "source": [
    "num3 = float(input('enter the third number:'))"
   ]
  },
  {
   "cell_type": "code",
   "execution_count": 10,
   "id": "88d2be01",
   "metadata": {},
   "outputs": [
    {
     "name": "stdout",
     "output_type": "stream",
     "text": [
      "the greatest number is 30.2\n"
     ]
    }
   ],
   "source": [
    "if (num1 >= num2) and (num1>= num3):\n",
    "    greatest = num1\n",
    "elif (num2 >= num1) and (num2>= num3):\n",
    "    greatest = num2\n",
    "else:\n",
    "    greatest = num3\n",
    "    \n",
    "print('the greatest number is' , greatest)"
   ]
  },
  {
   "cell_type": "markdown",
   "id": "b45c01cf",
   "metadata": {},
   "source": [
    "# if i want use int valu i can do "
   ]
  },
  {
   "cell_type": "code",
   "execution_count": 11,
   "id": "de235db9",
   "metadata": {},
   "outputs": [
    {
     "name": "stdout",
     "output_type": "stream",
     "text": [
      "enter the frist number:200\n"
     ]
    }
   ],
   "source": [
    "num1 = int(input('enter the frist number:'))"
   ]
  },
  {
   "cell_type": "code",
   "execution_count": 12,
   "id": "1cf23115",
   "metadata": {},
   "outputs": [
    {
     "name": "stdout",
     "output_type": "stream",
     "text": [
      "enter the second number:50\n"
     ]
    }
   ],
   "source": [
    "num2 = int(input('enter the second number:'))"
   ]
  },
  {
   "cell_type": "code",
   "execution_count": 13,
   "id": "00e4f2b1",
   "metadata": {},
   "outputs": [
    {
     "name": "stdout",
     "output_type": "stream",
     "text": [
      "enter the third number:201\n"
     ]
    }
   ],
   "source": [
    "num3 = int(input('enter the third number:'))"
   ]
  },
  {
   "cell_type": "code",
   "execution_count": 14,
   "id": "c0967bbc",
   "metadata": {},
   "outputs": [
    {
     "name": "stdout",
     "output_type": "stream",
     "text": [
      "the greatest number is 201\n"
     ]
    }
   ],
   "source": [
    "if (num1 >= num2) and (num1>= num3):\n",
    "    greatest = num1\n",
    "elif (num2 >= num1) and (num2>= num3):\n",
    "    greatest = num2\n",
    "else:\n",
    "    greatest = num3\n",
    "    \n",
    "print('the greatest number is' , greatest)"
   ]
  },
  {
   "cell_type": "markdown",
   "id": "fa777208",
   "metadata": {},
   "source": [
    "# A student will not be allowed to sit in an exam if his/her attendance is less than 75%."
   ]
  },
  {
   "cell_type": "code",
   "execution_count": 16,
   "id": "edcf5f6e",
   "metadata": {},
   "outputs": [
    {
     "name": "stdout",
     "output_type": "stream",
     "text": [
      "Enter the student's attendence percentage:99\n",
      "student can sit in exam.\n"
     ]
    }
   ],
   "source": [
    "def can_sit_in_exam(attendance_percentage):\n",
    "    if attendance_percentage >= 75:\n",
    "        return True \n",
    "    else:\n",
    "        return False \n",
    "    \n",
    "attendance = float(input(\"Enter the student's attendence percentage:\"))\n",
    "if can_sit_in_exam( attendance):\n",
    "    print(\"student can sit in exam.\")\n",
    "else:\n",
    "    print(\"student can not sit in exam.\")"
   ]
  },
  {
   "cell_type": "markdown",
   "id": "48857441",
   "metadata": {},
   "source": [
    "# A school has the following rules for the grading system:\n",
    "Below 25 – F, 25 to 44 – E, 45 to 49 – D, 50 to 59 – C, 60 to 79 – B, 80 to 89 - A, Above 90 - A+\n",
    "Now, Ask the user to enter marks and print the corresponding grade."
   ]
  },
  {
   "cell_type": "code",
   "execution_count": 17,
   "id": "09abbfe4",
   "metadata": {},
   "outputs": [
    {
     "name": "stdout",
     "output_type": "stream",
     "text": [
      "Enter the marks: 99\n",
      "Grade is: A+\n"
     ]
    }
   ],
   "source": [
    "def get_grade(marks):\n",
    "    if marks < 25:\n",
    "        return \"F\"\n",
    "    elif marks >= 25 and marks <= 44:\n",
    "        return \"E\"\n",
    "    elif marks >= 45 and marks <=49:\n",
    "        return \"D\"\n",
    "    elif marks >= 50 and marks <=59:\n",
    "        return \"c\"\n",
    "    elif marks >= 60 and marks <= 79:\n",
    "        return \"B\"\n",
    "    elif marks >= 80 and marks <= 89:\n",
    "        return \"A\"\n",
    "    elif marks >= 90:\n",
    "        return \"A+\"\n",
    "    \n",
    "marks = float(input(\"Enter the marks: \"))\n",
    "grade = get_grade(marks)\n",
    "print(\"Grade is:\",grade)"
   ]
  },
  {
   "cell_type": "markdown",
   "id": "90b5618a",
   "metadata": {},
   "source": [
    "# Print the following pattern using for and while loop.\n",
    "1 2 3 4 5 6 7\n",
    "1 2 3 4 5 6\n",
    "1 2 3 4 5\n",
    "1 2 3 4"
   ]
  },
  {
   "cell_type": "code",
   "execution_count": 18,
   "id": "f4aaee4f",
   "metadata": {},
   "outputs": [
    {
     "name": "stdout",
     "output_type": "stream",
     "text": [
      "1 2 3 4 5 6 7 \n",
      "1 2 3 4 5 6 \n",
      "1 2 3 4 5 \n",
      "1 2 3 4 \n"
     ]
    }
   ],
   "source": [
    "for i in range(8, 4, -1):\n",
    "    for j in range(1, i):\n",
    "        print(j, end=\" \")\n",
    "    print()"
   ]
  },
  {
   "cell_type": "code",
   "execution_count": 19,
   "id": "0033e141",
   "metadata": {},
   "outputs": [
    {
     "name": "stdout",
     "output_type": "stream",
     "text": [
      "1 2 3 4 5 6 7 \n",
      "1 2 3 4 5 6 \n",
      "1 2 3 4 5 \n",
      "1 2 3 4 \n"
     ]
    }
   ],
   "source": [
    "i = 8 \n",
    "while i > 4:\n",
    "    j = 1\n",
    "    while j < i:\n",
    "        print(j, end=\" \")\n",
    "        j += 1\n",
    "    print()\n",
    "    i -= 1"
   ]
  },
  {
   "cell_type": "markdown",
   "id": "c01e310b",
   "metadata": {},
   "source": [
    "# Display numbers from -100 to -10 using for loop.¶"
   ]
  },
  {
   "cell_type": "code",
   "execution_count": 20,
   "id": "9b9e95ed",
   "metadata": {},
   "outputs": [
    {
     "name": "stdout",
     "output_type": "stream",
     "text": [
      "-100 -99 -98 -97 -96 -95 -94 -93 -92 -91 -90 -89 -88 -87 -86 -85 -84 -83 -82 -81 -80 -79 -78 -77 -76 -75 -74 -73 -72 -71 -70 -69 -68 -67 -66 -65 -64 -63 -62 -61 -60 -59 -58 -57 -56 -55 -54 -53 -52 -51 -50 -49 -48 -47 -46 -45 -44 -43 -42 -41 -40 -39 -38 -37 -36 -35 -34 -33 -32 -31 -30 -29 -28 -27 -26 -25 -24 -23 -22 -21 -20 -19 -18 -17 -16 -15 -14 -13 -12 -11 -10 "
     ]
    }
   ],
   "source": [
    "for i in range(-100, -9):\n",
    "    print(i, end=\" \")"
   ]
  },
  {
   "cell_type": "markdown",
   "id": "02279965",
   "metadata": {},
   "source": [
    "# Write a program to sum all prime numbers within a range of 10 to 1000."
   ]
  },
  {
   "cell_type": "code",
   "execution_count": 21,
   "id": "1acd2cef",
   "metadata": {},
   "outputs": [
    {
     "name": "stdout",
     "output_type": "stream",
     "text": [
      "76110\n"
     ]
    }
   ],
   "source": [
    "def is_prime(num):\n",
    "    if num == 1:\n",
    "        return False\n",
    "    for i in range(2, int(num ** 0.5) + 1):\n",
    "        if num % i == 0:\n",
    "            return False\n",
    "    return True  \n",
    "\n",
    "def sum_of_primes_in_range(start, end):\n",
    "    prime_sum = 0\n",
    "    for num in range(start, end +1):\n",
    "        if is_prime(num):\n",
    "            prime_sum += num\n",
    "    return prime_sum\n",
    "\n",
    "print(sum_of_primes_in_range(10, 1000))"
   ]
  },
  {
   "cell_type": "code",
   "execution_count": 22,
   "id": "9f2e78fc",
   "metadata": {},
   "outputs": [],
   "source": [
    "## Find the factorial of an n! (Hint, n=7: 7*6*5*4*3*2*1)."
   ]
  },
  {
   "cell_type": "code",
   "execution_count": 23,
   "id": "6b1e086a",
   "metadata": {},
   "outputs": [
    {
     "name": "stdout",
     "output_type": "stream",
     "text": [
      "5040\n"
     ]
    }
   ],
   "source": [
    "n = 7\n",
    "factorial = 1\n",
    "\n",
    "for i in range(1, n+1):\n",
    "    factorial *= i\n",
    "\n",
    "print(factorial)"
   ]
  },
  {
   "cell_type": "markdown",
   "id": "860eba71",
   "metadata": {},
   "source": [
    "# Reverse a given integer number 27956240710"
   ]
  },
  {
   "cell_type": "code",
   "execution_count": 24,
   "id": "0226d2b7",
   "metadata": {},
   "outputs": [
    {
     "name": "stdout",
     "output_type": "stream",
     "text": [
      "1704265972\n"
     ]
    }
   ],
   "source": [
    "def reverse_integer(num):\n",
    "    reversed_num = 0\n",
    "    while num != 0:\n",
    "        last_digit = num % 10\n",
    "        num = num // 10\n",
    "        reversed_num = reversed_num * 10 + last_digit\n",
    "    return reversed_num\n",
    "\n",
    "num = 27956240710\n",
    "print(reverse_integer(num))"
   ]
  },
  {
   "cell_type": "code",
   "execution_count": 25,
   "id": "c502cb13",
   "metadata": {},
   "outputs": [
    {
     "data": {
      "text/plain": [
       "'# 10. Print the following pattern using for and while loop.\\n# # #\\n# # # #\\n# # #\\n# #'"
      ]
     },
     "execution_count": 25,
     "metadata": {},
     "output_type": "execute_result"
    }
   ],
   "source": [
    "'''# 10. Print the following pattern using for and while loop.\n",
    "# # #\n",
    "# # # #\n",
    "# # #\n",
    "# #'''"
   ]
  },
  {
   "cell_type": "code",
   "execution_count": 26,
   "id": "c95920d1",
   "metadata": {},
   "outputs": [
    {
     "name": "stdout",
     "output_type": "stream",
     "text": [
      "# # # \n",
      "# # # # \n",
      "# # # \n",
      "# # \n"
     ]
    }
   ],
   "source": [
    "for i in range (4):\n",
    "    if i < 2:\n",
    "        for j in range(3 + i):\n",
    "            print(\"#\", end=\" \")\n",
    "    else:\n",
    "        for j in range(5 - i):\n",
    "            print(\"#\", end=\" \")\n",
    "    print(\"\")\n",
    "        "
   ]
  },
  {
   "cell_type": "markdown",
   "id": "ed821ad2",
   "metadata": {},
   "source": [
    "# Display the Fibonacci series of 15 elements using the for and while loop."
   ]
  },
  {
   "cell_type": "code",
   "execution_count": 27,
   "id": "5b029f5d",
   "metadata": {},
   "outputs": [
    {
     "name": "stdout",
     "output_type": "stream",
     "text": [
      "0 1 1 2 3 5 8 13 21 34 55 89 144 233 377 \n",
      "0 1 1 2 3 5 8 13 21 34 55 89 144 233 377 \n"
     ]
    }
   ],
   "source": [
    "def fibonacci_series_for(n):\n",
    "    a, b = 0, 1\n",
    "    for i in range(n):\n",
    "        print(a, end=\" \")\n",
    "        a, b = b, a + b\n",
    "    print()\n",
    "\n",
    "fibonacci_series_for(15)\n",
    "\n",
    "# Using a while loop:\n",
    "def fibonacci_series_while(n):\n",
    "    a, b = 0, 1\n",
    "    i = 0\n",
    "    while i < n:\n",
    "        print(a, end=\" \")\n",
    "        a, b = b, a + b\n",
    "        i += 1\n",
    "    print()\n",
    "\n",
    "fibonacci_series_while(15)"
   ]
  },
  {
   "cell_type": "markdown",
   "id": "64ac4886",
   "metadata": {},
   "source": [
    "# Remove 2 and add 3 to the list and replace True with False.\n",
    "Li = [1,3,5, [2,3], True]\n",
    "Output = [1,3,5, [3,3], False]"
   ]
  },
  {
   "cell_type": "code",
   "execution_count": 28,
   "id": "317288fb",
   "metadata": {},
   "outputs": [
    {
     "name": "stdout",
     "output_type": "stream",
     "text": [
      "[1, 3, 5, [3, 3], False]\n"
     ]
    }
   ],
   "source": [
    "Li = [1, 3, 5, [2, 3], True]\n",
    "Li[3] = [3, 3]\n",
    "Li[-1] = False\n",
    "\n",
    "print(Li)"
   ]
  },
  {
   "cell_type": "markdown",
   "id": "78c8cda7",
   "metadata": {},
   "source": [
    "# 13. Find the intersection (common) of two sets.\n",
    "S1 = {1,4,6,8}\n",
    "S2 = {True, 1,2,10}"
   ]
  },
  {
   "cell_type": "code",
   "execution_count": 29,
   "id": "2f97d1eb",
   "metadata": {},
   "outputs": [
    {
     "name": "stdout",
     "output_type": "stream",
     "text": [
      "{True}\n",
      "{True}\n"
     ]
    }
   ],
   "source": [
    "S1 = {1, 4, 6, 8}\n",
    "S2 = {True, 1, 2, 10}\n",
    "\n",
    "intersection = S1.intersection(S2)\n",
    "print(intersection)\n",
    "\n",
    "intersection = S1 & S2\n",
    "print(intersection)"
   ]
  },
  {
   "cell_type": "markdown",
   "id": "bf4ea5f9",
   "metadata": {},
   "source": [
    "# Input a list from the user then Remove duplicates from a list and create a set and find the max\n",
    "number. User_input = [1,9,3,4,5,200,54]"
   ]
  },
  {
   "cell_type": "code",
   "execution_count": 30,
   "id": "ed2e52cd",
   "metadata": {},
   "outputs": [
    {
     "name": "stdout",
     "output_type": "stream",
     "text": [
      "Enter a list of numbers, separated by spaces: 200\n",
      "Original list:  [200]\n",
      "Set with duplicates removed:  {200}\n",
      "Maximum number in the set:  200\n"
     ]
    }
   ],
   "source": [
    "user_input = input(\"Enter a list of numbers, separated by spaces: \")\n",
    "user_list = list(map(int, user_input.split()))\n",
    "\n",
    "unique_set = set()\n",
    "max_num = float(\"-inf\")\n",
    "for num in user_list:\n",
    "    if num not in unique_set:\n",
    "        unique_set.add(num)\n",
    "        if num > max_num:\n",
    "            max_num = num\n",
    "\n",
    "print(\"Original list: \", user_list)\n",
    "print(\"Set with duplicates removed: \", unique_set)\n",
    "print(\"Maximum number in the set: \", max_num)"
   ]
  },
  {
   "cell_type": "markdown",
   "id": "b0b75c8b",
   "metadata": {},
   "source": [
    "# Rename the key of a dictionary.\n",
    "Dict = { \"name\": \"Shakil\", \"age\":27, \"city\": “Berlin”, \"country\": \"Germany\" }\n",
    "Write a program to rename a key ‘country’ to a ‘region’ in the following dictionary."
   ]
  },
  {
   "cell_type": "code",
   "execution_count": 31,
   "id": "71b1f6a3",
   "metadata": {},
   "outputs": [
    {
     "name": "stdout",
     "output_type": "stream",
     "text": [
      "{'name': 'Shakil', 'age': 27, 'city': 'Berlin', 'region': 'Germany'}\n"
     ]
    }
   ],
   "source": [
    "Dict ={\n",
    "    \"name\": \"Shakil\",\n",
    "    \"age\": 27, \"city\": \"Berlin\",\n",
    "    \"country\": \"Germany\"\n",
    "     }\n",
    "\n",
    "Dict[\"region\"] = Dict.pop(\"country\")\n",
    "\n",
    "print(Dict)"
   ]
  },
  {
   "cell_type": "markdown",
   "id": "af2c4621",
   "metadata": {},
   "source": [
    "# Creating a data frame using the list.\n",
    "num = [10,100,300] (column name is number)"
   ]
  },
  {
   "cell_type": "code",
   "execution_count": 32,
   "id": "5f21913c",
   "metadata": {},
   "outputs": [
    {
     "name": "stdout",
     "output_type": "stream",
     "text": [
      "   number\n",
      "0      10\n",
      "1     100\n",
      "2     300\n"
     ]
    }
   ],
   "source": [
    "import pandas as pd\n",
    "\n",
    "num = [10, 100, 300]\n",
    "\n",
    "df = pd.DataFrame({'number': num})\n",
    "print(df)"
   ]
  },
  {
   "cell_type": "markdown",
   "id": "ad069c66",
   "metadata": {},
   "source": [
    "# Change the value of a key in a given dictionary.\n",
    "Write a Python program to change ‘age’ to 28 in the following dictionary.\n",
    "Dict = { \"name\": \"Shakil\", \"age\":27, \"city\": “Berlin”, \"country\": \"Germany\" }"
   ]
  },
  {
   "cell_type": "code",
   "execution_count": 33,
   "id": "cfb0d9d7",
   "metadata": {},
   "outputs": [
    {
     "name": "stdout",
     "output_type": "stream",
     "text": [
      "{'name': 'Shakil', 'age': 28, 'city': 'Berlin', 'country': 'Germany'}\n"
     ]
    }
   ],
   "source": [
    "Dict = {\n",
    "        \"name\": \"Shakil\",\n",
    "        \"age\": 27,\n",
    "        \"city\":\"Berlin\", \n",
    "        \"country\": \"Germany\"\n",
    "       }\n",
    "Dict[\"age\"] = 28\n",
    "\n",
    "print(Dict)"
   ]
  },
  {
   "cell_type": "code",
   "execution_count": null,
   "id": "f47db24e",
   "metadata": {},
   "outputs": [],
   "source": []
  }
 ],
 "metadata": {
  "kernelspec": {
   "display_name": "Python 3 (ipykernel)",
   "language": "python",
   "name": "python3"
  },
  "language_info": {
   "codemirror_mode": {
    "name": "ipython",
    "version": 3
   },
   "file_extension": ".py",
   "mimetype": "text/x-python",
   "name": "python",
   "nbconvert_exporter": "python",
   "pygments_lexer": "ipython3",
   "version": "3.9.13"
  }
 },
 "nbformat": 4,
 "nbformat_minor": 5
}
