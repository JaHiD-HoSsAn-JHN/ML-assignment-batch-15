{
 "cells": [
  {
   "cell_type": "code",
   "execution_count": 1,
   "id": "336b408a",
   "metadata": {},
   "outputs": [],
   "source": [
    "#libraries\n",
    "import numpy as np \n",
    "import pandas as pd\n",
    "import matplotlib.pyplot as plt\n",
    "import seaborn as sns\n",
    "import xgboost as xgb\n",
    "%matplotlib inline\n",
    "sns.set()\n",
    "#preprocess\n",
    "from sklearn.model_selection import train_test_split, RandomizedSearchCV, GridSearchCV\n",
    "from sklearn.preprocessing import MinMaxScaler, StandardScaler, LabelEncoder\n",
    "from imblearn.over_sampling import SMOTE\n",
    "#models\n",
    "from sklearn.svm import SVC\n",
    "from sklearn import metrics\n",
    "from xgboost import XGBClassifie\n",
    "from sklearn.model_selection import train_test_split, KFold, cross_val_score\n",
    "from scipy.stats import randint as sp_randint\n",
    "from sklearn.ensemble import BaggingClassifier,VotingClassifier, AdaBoostClassifier, StackingClassifier, RandomForestClassifier,ExtraTreesClassifier\n",
    "from sklearn.neighbors import KNeighborsClassifier\n",
    "from sklearn.tree import DecisionTreeClassifier\n",
    "from scipy.stats import randint\n",
    "from catboost import CatBoostClassifier\n",
    "from sklearn.linear_model import LogisticRegression\n",
    "from sklearn.datasets import make_classification\n",
    "from imblearn.over_sampling import RandomOverSampler\n",
    "#check\n",
    "from sklearn.metrics import confusion_matrix, classification_report, accuracy_score, f1_score, recall_score, precision_score\n",
    "#save\n",
    "import pickle as pk"
   ]
  },
  {
   "cell_type": "code",
   "execution_count": 2,
   "id": "46119b89",
   "metadata": {},
   "outputs": [],
   "source": [
    "df = pd.read_csv('Heart Disease.csv')"
   ]
  },
  {
   "cell_type": "code",
   "execution_count": 3,
   "id": "1af1cff7",
   "metadata": {},
   "outputs": [
    {
     "data": {
      "text/html": [
       "<div>\n",
       "<style scoped>\n",
       "    .dataframe tbody tr th:only-of-type {\n",
       "        vertical-align: middle;\n",
       "    }\n",
       "\n",
       "    .dataframe tbody tr th {\n",
       "        vertical-align: top;\n",
       "    }\n",
       "\n",
       "    .dataframe thead th {\n",
       "        text-align: right;\n",
       "    }\n",
       "</style>\n",
       "<table border=\"1\" class=\"dataframe\">\n",
       "  <thead>\n",
       "    <tr style=\"text-align: right;\">\n",
       "      <th></th>\n",
       "      <th>HeartDisease</th>\n",
       "      <th>BMI</th>\n",
       "      <th>Smoking</th>\n",
       "      <th>AlcoholDrinking</th>\n",
       "      <th>Stroke</th>\n",
       "      <th>PhysicalHealth</th>\n",
       "      <th>MentalHealth</th>\n",
       "      <th>DiffWalking</th>\n",
       "      <th>Sex</th>\n",
       "      <th>AgeCategory</th>\n",
       "      <th>Race</th>\n",
       "      <th>Diabetic</th>\n",
       "      <th>PhysicalActivity</th>\n",
       "      <th>GenHealth</th>\n",
       "      <th>SleepTime</th>\n",
       "      <th>Asthma</th>\n",
       "      <th>KidneyDisease</th>\n",
       "      <th>SkinCancer</th>\n",
       "    </tr>\n",
       "  </thead>\n",
       "  <tbody>\n",
       "    <tr>\n",
       "      <th>0</th>\n",
       "      <td>No</td>\n",
       "      <td>16.60</td>\n",
       "      <td>Yes</td>\n",
       "      <td>No</td>\n",
       "      <td>No</td>\n",
       "      <td>3</td>\n",
       "      <td>30</td>\n",
       "      <td>No</td>\n",
       "      <td>Female</td>\n",
       "      <td>55-59</td>\n",
       "      <td>White</td>\n",
       "      <td>Yes</td>\n",
       "      <td>Yes</td>\n",
       "      <td>Very good</td>\n",
       "      <td>5</td>\n",
       "      <td>Yes</td>\n",
       "      <td>No</td>\n",
       "      <td>Yes</td>\n",
       "    </tr>\n",
       "    <tr>\n",
       "      <th>1</th>\n",
       "      <td>No</td>\n",
       "      <td>20.34</td>\n",
       "      <td>No</td>\n",
       "      <td>No</td>\n",
       "      <td>Yes</td>\n",
       "      <td>0</td>\n",
       "      <td>0</td>\n",
       "      <td>No</td>\n",
       "      <td>Female</td>\n",
       "      <td>80 or older</td>\n",
       "      <td>White</td>\n",
       "      <td>No</td>\n",
       "      <td>Yes</td>\n",
       "      <td>Very good</td>\n",
       "      <td>7</td>\n",
       "      <td>No</td>\n",
       "      <td>No</td>\n",
       "      <td>No</td>\n",
       "    </tr>\n",
       "    <tr>\n",
       "      <th>2</th>\n",
       "      <td>No</td>\n",
       "      <td>26.58</td>\n",
       "      <td>Yes</td>\n",
       "      <td>No</td>\n",
       "      <td>No</td>\n",
       "      <td>20</td>\n",
       "      <td>30</td>\n",
       "      <td>No</td>\n",
       "      <td>Male</td>\n",
       "      <td>65-69</td>\n",
       "      <td>White</td>\n",
       "      <td>Yes</td>\n",
       "      <td>Yes</td>\n",
       "      <td>Fair</td>\n",
       "      <td>8</td>\n",
       "      <td>Yes</td>\n",
       "      <td>No</td>\n",
       "      <td>No</td>\n",
       "    </tr>\n",
       "    <tr>\n",
       "      <th>3</th>\n",
       "      <td>No</td>\n",
       "      <td>24.21</td>\n",
       "      <td>No</td>\n",
       "      <td>No</td>\n",
       "      <td>No</td>\n",
       "      <td>0</td>\n",
       "      <td>0</td>\n",
       "      <td>No</td>\n",
       "      <td>Female</td>\n",
       "      <td>75-79</td>\n",
       "      <td>White</td>\n",
       "      <td>No</td>\n",
       "      <td>No</td>\n",
       "      <td>Good</td>\n",
       "      <td>6</td>\n",
       "      <td>No</td>\n",
       "      <td>No</td>\n",
       "      <td>Yes</td>\n",
       "    </tr>\n",
       "    <tr>\n",
       "      <th>4</th>\n",
       "      <td>No</td>\n",
       "      <td>23.71</td>\n",
       "      <td>No</td>\n",
       "      <td>No</td>\n",
       "      <td>No</td>\n",
       "      <td>28</td>\n",
       "      <td>0</td>\n",
       "      <td>Yes</td>\n",
       "      <td>Female</td>\n",
       "      <td>40-44</td>\n",
       "      <td>White</td>\n",
       "      <td>No</td>\n",
       "      <td>Yes</td>\n",
       "      <td>Very good</td>\n",
       "      <td>8</td>\n",
       "      <td>No</td>\n",
       "      <td>No</td>\n",
       "      <td>No</td>\n",
       "    </tr>\n",
       "  </tbody>\n",
       "</table>\n",
       "</div>"
      ],
      "text/plain": [
       "  HeartDisease    BMI Smoking AlcoholDrinking Stroke  PhysicalHealth  \\\n",
       "0           No  16.60     Yes              No     No               3   \n",
       "1           No  20.34      No              No    Yes               0   \n",
       "2           No  26.58     Yes              No     No              20   \n",
       "3           No  24.21      No              No     No               0   \n",
       "4           No  23.71      No              No     No              28   \n",
       "\n",
       "   MentalHealth DiffWalking     Sex  AgeCategory   Race Diabetic  \\\n",
       "0            30          No  Female        55-59  White      Yes   \n",
       "1             0          No  Female  80 or older  White       No   \n",
       "2            30          No    Male        65-69  White      Yes   \n",
       "3             0          No  Female        75-79  White       No   \n",
       "4             0         Yes  Female        40-44  White       No   \n",
       "\n",
       "  PhysicalActivity  GenHealth  SleepTime Asthma KidneyDisease SkinCancer  \n",
       "0              Yes  Very good          5    Yes            No        Yes  \n",
       "1              Yes  Very good          7     No            No         No  \n",
       "2              Yes       Fair          8    Yes            No         No  \n",
       "3               No       Good          6     No            No        Yes  \n",
       "4              Yes  Very good          8     No            No         No  "
      ]
     },
     "execution_count": 3,
     "metadata": {},
     "output_type": "execute_result"
    }
   ],
   "source": [
    "df.head()"
   ]
  },
  {
   "cell_type": "code",
   "execution_count": 4,
   "id": "9537a9d0",
   "metadata": {
    "scrolled": true
   },
   "outputs": [
    {
     "data": {
      "text/html": [
       "<div>\n",
       "<style scoped>\n",
       "    .dataframe tbody tr th:only-of-type {\n",
       "        vertical-align: middle;\n",
       "    }\n",
       "\n",
       "    .dataframe tbody tr th {\n",
       "        vertical-align: top;\n",
       "    }\n",
       "\n",
       "    .dataframe thead th {\n",
       "        text-align: right;\n",
       "    }\n",
       "</style>\n",
       "<table border=\"1\" class=\"dataframe\">\n",
       "  <thead>\n",
       "    <tr style=\"text-align: right;\">\n",
       "      <th></th>\n",
       "      <th>HeartDisease</th>\n",
       "      <th>BMI</th>\n",
       "      <th>Smoking</th>\n",
       "      <th>AlcoholDrinking</th>\n",
       "      <th>Stroke</th>\n",
       "      <th>PhysicalHealth</th>\n",
       "      <th>MentalHealth</th>\n",
       "      <th>DiffWalking</th>\n",
       "      <th>Sex</th>\n",
       "      <th>AgeCategory</th>\n",
       "      <th>Race</th>\n",
       "      <th>Diabetic</th>\n",
       "      <th>PhysicalActivity</th>\n",
       "      <th>GenHealth</th>\n",
       "      <th>SleepTime</th>\n",
       "      <th>Asthma</th>\n",
       "      <th>KidneyDisease</th>\n",
       "      <th>SkinCancer</th>\n",
       "    </tr>\n",
       "  </thead>\n",
       "  <tbody>\n",
       "    <tr>\n",
       "      <th>319790</th>\n",
       "      <td>Yes</td>\n",
       "      <td>27.41</td>\n",
       "      <td>Yes</td>\n",
       "      <td>No</td>\n",
       "      <td>No</td>\n",
       "      <td>7</td>\n",
       "      <td>0</td>\n",
       "      <td>Yes</td>\n",
       "      <td>Male</td>\n",
       "      <td>60-64</td>\n",
       "      <td>Hispanic</td>\n",
       "      <td>Yes</td>\n",
       "      <td>No</td>\n",
       "      <td>Fair</td>\n",
       "      <td>6</td>\n",
       "      <td>Yes</td>\n",
       "      <td>No</td>\n",
       "      <td>No</td>\n",
       "    </tr>\n",
       "    <tr>\n",
       "      <th>319791</th>\n",
       "      <td>No</td>\n",
       "      <td>29.84</td>\n",
       "      <td>Yes</td>\n",
       "      <td>No</td>\n",
       "      <td>No</td>\n",
       "      <td>0</td>\n",
       "      <td>0</td>\n",
       "      <td>No</td>\n",
       "      <td>Male</td>\n",
       "      <td>35-39</td>\n",
       "      <td>Hispanic</td>\n",
       "      <td>No</td>\n",
       "      <td>Yes</td>\n",
       "      <td>Very good</td>\n",
       "      <td>5</td>\n",
       "      <td>Yes</td>\n",
       "      <td>No</td>\n",
       "      <td>No</td>\n",
       "    </tr>\n",
       "    <tr>\n",
       "      <th>319792</th>\n",
       "      <td>No</td>\n",
       "      <td>24.24</td>\n",
       "      <td>No</td>\n",
       "      <td>No</td>\n",
       "      <td>No</td>\n",
       "      <td>0</td>\n",
       "      <td>0</td>\n",
       "      <td>No</td>\n",
       "      <td>Female</td>\n",
       "      <td>45-49</td>\n",
       "      <td>Hispanic</td>\n",
       "      <td>No</td>\n",
       "      <td>Yes</td>\n",
       "      <td>Good</td>\n",
       "      <td>6</td>\n",
       "      <td>No</td>\n",
       "      <td>No</td>\n",
       "      <td>No</td>\n",
       "    </tr>\n",
       "    <tr>\n",
       "      <th>319793</th>\n",
       "      <td>No</td>\n",
       "      <td>32.81</td>\n",
       "      <td>No</td>\n",
       "      <td>No</td>\n",
       "      <td>No</td>\n",
       "      <td>0</td>\n",
       "      <td>0</td>\n",
       "      <td>No</td>\n",
       "      <td>Female</td>\n",
       "      <td>25-29</td>\n",
       "      <td>Hispanic</td>\n",
       "      <td>No</td>\n",
       "      <td>No</td>\n",
       "      <td>Good</td>\n",
       "      <td>12</td>\n",
       "      <td>No</td>\n",
       "      <td>No</td>\n",
       "      <td>No</td>\n",
       "    </tr>\n",
       "    <tr>\n",
       "      <th>319794</th>\n",
       "      <td>No</td>\n",
       "      <td>46.56</td>\n",
       "      <td>No</td>\n",
       "      <td>No</td>\n",
       "      <td>No</td>\n",
       "      <td>0</td>\n",
       "      <td>0</td>\n",
       "      <td>No</td>\n",
       "      <td>Female</td>\n",
       "      <td>80 or older</td>\n",
       "      <td>Hispanic</td>\n",
       "      <td>No</td>\n",
       "      <td>Yes</td>\n",
       "      <td>Good</td>\n",
       "      <td>8</td>\n",
       "      <td>No</td>\n",
       "      <td>No</td>\n",
       "      <td>No</td>\n",
       "    </tr>\n",
       "  </tbody>\n",
       "</table>\n",
       "</div>"
      ],
      "text/plain": [
       "       HeartDisease    BMI Smoking AlcoholDrinking Stroke  PhysicalHealth  \\\n",
       "319790          Yes  27.41     Yes              No     No               7   \n",
       "319791           No  29.84     Yes              No     No               0   \n",
       "319792           No  24.24      No              No     No               0   \n",
       "319793           No  32.81      No              No     No               0   \n",
       "319794           No  46.56      No              No     No               0   \n",
       "\n",
       "        MentalHealth DiffWalking     Sex  AgeCategory      Race Diabetic  \\\n",
       "319790             0         Yes    Male        60-64  Hispanic      Yes   \n",
       "319791             0          No    Male        35-39  Hispanic       No   \n",
       "319792             0          No  Female        45-49  Hispanic       No   \n",
       "319793             0          No  Female        25-29  Hispanic       No   \n",
       "319794             0          No  Female  80 or older  Hispanic       No   \n",
       "\n",
       "       PhysicalActivity  GenHealth  SleepTime Asthma KidneyDisease SkinCancer  \n",
       "319790               No       Fair          6    Yes            No         No  \n",
       "319791              Yes  Very good          5    Yes            No         No  \n",
       "319792              Yes       Good          6     No            No         No  \n",
       "319793               No       Good         12     No            No         No  \n",
       "319794              Yes       Good          8     No            No         No  "
      ]
     },
     "execution_count": 4,
     "metadata": {},
     "output_type": "execute_result"
    }
   ],
   "source": [
    "df.tail()"
   ]
  },
  {
   "cell_type": "code",
   "execution_count": 5,
   "id": "70cc8570",
   "metadata": {},
   "outputs": [
    {
     "data": {
      "text/plain": [
       "(319795, 18)"
      ]
     },
     "execution_count": 5,
     "metadata": {},
     "output_type": "execute_result"
    }
   ],
   "source": [
    "df.shape"
   ]
  },
  {
   "cell_type": "code",
   "execution_count": 6,
   "id": "02f2e2be",
   "metadata": {},
   "outputs": [],
   "source": [
    "df1 = df.copy()\n",
    "df2 = df.copy()\n",
    "df3 = df.copy()"
   ]
  },
  {
   "cell_type": "markdown",
   "id": "b0b1458b",
   "metadata": {},
   "source": [
    "# Explore Data"
   ]
  },
  {
   "cell_type": "code",
   "execution_count": 7,
   "id": "f3c1d4a3",
   "metadata": {},
   "outputs": [
    {
     "name": "stdout",
     "output_type": "stream",
     "text": [
      "<class 'pandas.core.frame.DataFrame'>\n",
      "RangeIndex: 319795 entries, 0 to 319794\n",
      "Data columns (total 18 columns):\n",
      " #   Column            Non-Null Count   Dtype  \n",
      "---  ------            --------------   -----  \n",
      " 0   HeartDisease      319795 non-null  object \n",
      " 1   BMI               319795 non-null  float64\n",
      " 2   Smoking           319795 non-null  object \n",
      " 3   AlcoholDrinking   319795 non-null  object \n",
      " 4   Stroke            319795 non-null  object \n",
      " 5   PhysicalHealth    319795 non-null  int64  \n",
      " 6   MentalHealth      319795 non-null  int64  \n",
      " 7   DiffWalking       319795 non-null  object \n",
      " 8   Sex               319795 non-null  object \n",
      " 9   AgeCategory       319795 non-null  object \n",
      " 10  Race              319795 non-null  object \n",
      " 11  Diabetic          319795 non-null  object \n",
      " 12  PhysicalActivity  319795 non-null  object \n",
      " 13  GenHealth         319795 non-null  object \n",
      " 14  SleepTime         319795 non-null  int64  \n",
      " 15  Asthma            319795 non-null  object \n",
      " 16  KidneyDisease     319795 non-null  object \n",
      " 17  SkinCancer        319795 non-null  object \n",
      "dtypes: float64(1), int64(3), object(14)\n",
      "memory usage: 43.9+ MB\n"
     ]
    }
   ],
   "source": [
    "df.info()"
   ]
  },
  {
   "cell_type": "code",
   "execution_count": 8,
   "id": "5a6826e9",
   "metadata": {},
   "outputs": [
    {
     "data": {
      "text/plain": [
       "Index(['HeartDisease', 'BMI', 'Smoking', 'AlcoholDrinking', 'Stroke',\n",
       "       'PhysicalHealth', 'MentalHealth', 'DiffWalking', 'Sex', 'AgeCategory',\n",
       "       'Race', 'Diabetic', 'PhysicalActivity', 'GenHealth', 'SleepTime',\n",
       "       'Asthma', 'KidneyDisease', 'SkinCancer'],\n",
       "      dtype='object')"
      ]
     },
     "execution_count": 8,
     "metadata": {},
     "output_type": "execute_result"
    }
   ],
   "source": [
    "df.columns"
   ]
  },
  {
   "cell_type": "markdown",
   "id": "e15c7506",
   "metadata": {},
   "source": [
    "# Check Null Values"
   ]
  },
  {
   "cell_type": "code",
   "execution_count": 9,
   "id": "ad7b5179",
   "metadata": {
    "scrolled": true
   },
   "outputs": [
    {
     "data": {
      "text/plain": [
       "HeartDisease        0\n",
       "BMI                 0\n",
       "Smoking             0\n",
       "AlcoholDrinking     0\n",
       "Stroke              0\n",
       "PhysicalHealth      0\n",
       "MentalHealth        0\n",
       "DiffWalking         0\n",
       "Sex                 0\n",
       "AgeCategory         0\n",
       "Race                0\n",
       "Diabetic            0\n",
       "PhysicalActivity    0\n",
       "GenHealth           0\n",
       "SleepTime           0\n",
       "Asthma              0\n",
       "KidneyDisease       0\n",
       "SkinCancer          0\n",
       "dtype: int64"
      ]
     },
     "execution_count": 9,
     "metadata": {},
     "output_type": "execute_result"
    }
   ],
   "source": [
    "df.isna().sum()"
   ]
  },
  {
   "cell_type": "code",
   "execution_count": 10,
   "id": "7f409fd8",
   "metadata": {},
   "outputs": [
    {
     "data": {
      "text/plain": [
       "False"
      ]
     },
     "execution_count": 10,
     "metadata": {},
     "output_type": "execute_result"
    }
   ],
   "source": [
    "#all rows control for null values\n",
    "df.isna().values.any()"
   ]
  },
  {
   "cell_type": "code",
   "execution_count": 11,
   "id": "316f5ccd",
   "metadata": {},
   "outputs": [
    {
     "data": {
      "text/plain": [
       "No     292422\n",
       "Yes     27373\n",
       "Name: HeartDisease, dtype: int64"
      ]
     },
     "execution_count": 11,
     "metadata": {},
     "output_type": "execute_result"
    }
   ],
   "source": [
    "df['HeartDisease'].value_counts()"
   ]
  },
  {
   "cell_type": "markdown",
   "id": "0a51cb63",
   "metadata": {},
   "source": [
    "# Duplicated values"
   ]
  },
  {
   "cell_type": "code",
   "execution_count": 12,
   "id": "757b8e1a",
   "metadata": {},
   "outputs": [
    {
     "data": {
      "text/plain": [
       "18078"
      ]
     },
     "execution_count": 12,
     "metadata": {},
     "output_type": "execute_result"
    }
   ],
   "source": [
    "df.duplicated().sum()"
   ]
  },
  {
   "cell_type": "code",
   "execution_count": 13,
   "id": "157e21d3",
   "metadata": {},
   "outputs": [],
   "source": [
    "#drop duplicates\n",
    "df.drop_duplicates(inplace=True)"
   ]
  },
  {
   "cell_type": "code",
   "execution_count": 14,
   "id": "b5e7f617",
   "metadata": {},
   "outputs": [
    {
     "data": {
      "text/plain": [
       "(301717, 18)"
      ]
     },
     "execution_count": 14,
     "metadata": {},
     "output_type": "execute_result"
    }
   ],
   "source": [
    "df.shape"
   ]
  },
  {
   "cell_type": "markdown",
   "id": "2bf6b9e8",
   "metadata": {},
   "source": [
    "# Data Analysis & Visualization  using Seaborn Library, pyplot"
   ]
  },
  {
   "cell_type": "code",
   "execution_count": 15,
   "id": "ff1b1e06",
   "metadata": {},
   "outputs": [
    {
     "data": {
      "text/plain": [
       "<function matplotlib.pyplot.show(close=None, block=None)>"
      ]
     },
     "execution_count": 15,
     "metadata": {},
     "output_type": "execute_result"
    },
    {
     "data": {
      "image/png": "[encoded data removed]",
      "text/plain": [
       "<Figure size 640x480 with 1 Axes>"
      ]
     },
     "metadata": {},
     "output_type": "display_data"
    }
   ],
   "source": [
    "#show Ratio of HeartDisease from data\n",
    "plt.pie(x = df['HeartDisease'].value_counts() ,autopct='%1.2f%%' ,labels=df['HeartDisease'].value_counts().index)\n",
    "plt.title('the Ratio of Heart Disease')\n",
    "plt.show"
   ]
  },
  {
   "cell_type": "code",
   "execution_count": 16,
   "id": "874b0504",
   "metadata": {},
   "outputs": [
    {
     "data": {
      "image/png": "[encoded data removed]",
      "text/plain": [
       "<Figure size 640x480 with 1 Axes>"
      ]
     },
     "metadata": {},
     "output_type": "display_data"
    }
   ],
   "source": [
    "#show how many of Male and female \n",
    "sns.countplot(x = df['Sex'], palette='GnBu_d')\n",
    "plt.show()"
   ]
  },
  {
   "cell_type": "code",
   "execution_count": 17,
   "id": "f86fa780",
   "metadata": {},
   "outputs": [
    {
     "data": {
      "text/plain": [
       "Sex     HeartDisease\n",
       "Female  No              148458\n",
       "        Yes              11213\n",
       "Male    No              125998\n",
       "        Yes              16048\n",
       "Name: HeartDisease, dtype: int64"
      ]
     },
     "execution_count": 17,
     "metadata": {},
     "output_type": "execute_result"
    }
   ],
   "source": [
    "df.groupby(['Sex','HeartDisease'])['HeartDisease'].count()"
   ]
  },
  {
   "cell_type": "code",
   "execution_count": 18,
   "id": "181d72e1",
   "metadata": {},
   "outputs": [
    {
     "data": {
      "image/png": "[encoded data removed]",
      "text/plain": [
       "<Figure size 1000x500 with 1 Axes>"
      ]
     },
     "metadata": {},
     "output_type": "display_data"
    }
   ],
   "source": [
    "#show Heart Disease Frequency for Sex\n",
    "plt.figure(figsize=(10,5))\n",
    "sns.countplot(x = df['Sex'], data=df, hue='HeartDisease',palette=\"winter\")\n",
    "plt.title('Heart Disease Frequency for Sex')\n",
    "plt.xlabel('Sex')\n",
    "plt.legend([\"Haven't Disease\", \"Have Disease\"])\n",
    "plt.ylabel('Frequency')\n",
    "plt.show()"
   ]
  },
  {
   "cell_type": "code",
   "execution_count": 19,
   "id": "98361df2",
   "metadata": {},
   "outputs": [
    {
     "data": {
      "text/plain": [
       "65-69          31670\n",
       "60-64          31219\n",
       "70-74          29273\n",
       "55-59          27610\n",
       "50-54          23736\n",
       "80 or older    23352\n",
       "75-79          20713\n",
       "45-49          20518\n",
       "18-24          19998\n",
       "40-44          19837\n",
       "35-39          19526\n",
       "30-34          17953\n",
       "25-29          16312\n",
       "Name: AgeCategory, dtype: int64"
      ]
     },
     "execution_count": 19,
     "metadata": {},
     "output_type": "execute_result"
    }
   ],
   "source": [
    "#AgeCategory frequency\n",
    "df['AgeCategory'].value_counts()"
   ]
  },
  {
   "cell_type": "code",
   "execution_count": 20,
   "id": "87353c22",
   "metadata": {},
   "outputs": [
    {
     "data": {
      "text/plain": [
       "AgeCategory  HeartDisease\n",
       "18-24        No              19868\n",
       "             Yes               130\n",
       "25-29        No              16179\n",
       "             Yes               133\n",
       "30-34        No              17727\n",
       "             Yes               226\n",
       "35-39        No              19230\n",
       "             Yes               296\n",
       "40-44        No              19351\n",
       "             Yes               486\n",
       "45-49        No              19775\n",
       "             Yes               743\n",
       "50-54        No              22353\n",
       "             Yes              1383\n",
       "55-59        No              25411\n",
       "             Yes              2199\n",
       "60-64        No              27898\n",
       "             Yes              3321\n",
       "65-69        No              27596\n",
       "             Yes              4074\n",
       "70-74        No              24456\n",
       "             Yes              4817\n",
       "75-79        No              16686\n",
       "             Yes              4027\n",
       "80 or older  No              17926\n",
       "             Yes              5426\n",
       "Name: HeartDisease, dtype: int64"
      ]
     },
     "execution_count": 20,
     "metadata": {},
     "output_type": "execute_result"
    }
   ],
   "source": [
    "df.groupby(['AgeCategory','HeartDisease'])['HeartDisease'].count()"
   ]
  },
  {
   "cell_type": "code",
   "execution_count": 21,
   "id": "2c0f070b",
   "metadata": {},
   "outputs": [
    {
     "data": {
      "image/png": "[encoded data removed]",
      "text/plain": [
       "<Figure size 1400x700 with 1 Axes>"
      ]
     },
     "metadata": {},
     "output_type": "display_data"
    }
   ],
   "source": [
    "#show Heart Disease Frequency for AgeCategory\n",
    "plt.figure(figsize=(14,7))\n",
    "sns.countplot(x='AgeCategory', data=df, hue='HeartDisease',palette=\"winter\")\n",
    "plt.title('Heart Disease Frequency for AgeCategory')\n",
    "plt.xlabel('AgeCategory')\n",
    "plt.legend([\"Haven't Disease\", \"Have Disease\"])\n",
    "plt.ylabel('Frequency')\n",
    "plt.show()"
   ]
  },
  {
   "cell_type": "code",
   "execution_count": 22,
   "id": "1224baf5",
   "metadata": {},
   "outputs": [
    {
     "data": {
      "text/plain": [
       "No     174312\n",
       "Yes    127405\n",
       "Name: Smoking, dtype: int64"
      ]
     },
     "execution_count": 22,
     "metadata": {},
     "output_type": "execute_result"
    }
   ],
   "source": [
    "#the count of people Smoking\n",
    "df['Smoking'].value_counts()"
   ]
  },
  {
   "cell_type": "code",
   "execution_count": 23,
   "id": "eb496638",
   "metadata": {},
   "outputs": [
    {
     "data": {
      "text/plain": [
       "Sex     AgeCategory  Smoking  HeartDisease\n",
       "Female  18-24        No       No              7963\n",
       "                              Yes               40\n",
       "                     Yes      No              1132\n",
       "                              Yes               10\n",
       "        25-29        No       No              5746\n",
       "                                              ... \n",
       "Male    75-79        Yes      Yes             1552\n",
       "        80 or older  No       No              2905\n",
       "                              Yes             1086\n",
       "                     Yes      No              3512\n",
       "                              Yes             1724\n",
       "Name: HeartDisease, Length: 104, dtype: int64"
      ]
     },
     "execution_count": 23,
     "metadata": {},
     "output_type": "execute_result"
    }
   ],
   "source": [
    "df.groupby(['Sex','AgeCategory','Smoking','HeartDisease'])['HeartDisease'].count()"
   ]
  },
  {
   "cell_type": "code",
   "execution_count": 24,
   "id": "ad10a980",
   "metadata": {},
   "outputs": [
    {
     "data": {
      "image/png": "[encoded data removed]",
      "text/plain": [
       "<Figure size 1000x500 with 1 Axes>"
      ]
     },
     "metadata": {},
     "output_type": "display_data"
    }
   ],
   "source": [
    "#show Heart Disease Frequency for Smoking\n",
    "plt.figure(figsize=(10,5))\n",
    "sns.countplot(x='Smoking',data=df,hue='HeartDisease',palette='winter')\n",
    "plt.title('Heart Disease of Smoking people')\n",
    "plt.legend([\"Haven't Disease\", \"Have Disease\"])\n",
    "plt.xlabel('Smoking')\n",
    "plt.show()"
   ]
  },
  {
   "cell_type": "code",
   "execution_count": 25,
   "id": "92e4ca28",
   "metadata": {},
   "outputs": [
    {
     "data": {
      "text/plain": [
       "No     280136\n",
       "Yes     21581\n",
       "Name: AlcoholDrinking, dtype: int64"
      ]
     },
     "execution_count": 25,
     "metadata": {},
     "output_type": "execute_result"
    }
   ],
   "source": [
    "# I want to Know how many people drink the AlcoholDrinking or not \n",
    "df['AlcoholDrinking'].value_counts()"
   ]
  },
  {
   "cell_type": "code",
   "execution_count": 26,
   "id": "edcecebb",
   "metadata": {},
   "outputs": [
    {
     "data": {
      "text/plain": [
       "AlcoholDrinking  HeartDisease\n",
       "No               No              254016\n",
       "                 Yes              26120\n",
       "Yes              No               20440\n",
       "                 Yes               1141\n",
       "Name: HeartDisease, dtype: int64"
      ]
     },
     "execution_count": 26,
     "metadata": {},
     "output_type": "execute_result"
    }
   ],
   "source": [
    "df.groupby(['AlcoholDrinking','HeartDisease'])['HeartDisease'].count()"
   ]
  },
  {
   "cell_type": "code",
   "execution_count": 27,
   "id": "4f82cd58",
   "metadata": {},
   "outputs": [
    {
     "data": {
      "text/plain": [
       "Sex     AgeCategory  AlcoholDrinking  PhysicalActivity  HeartDisease\n",
       "Female  18-24        No               No                No              1419\n",
       "                                                        Yes                9\n",
       "                                      Yes               No              6942\n",
       "                                                        Yes               38\n",
       "                     Yes              No                No                66\n",
       "                                                                        ... \n",
       "Male    80 or older  No               Yes               Yes             1780\n",
       "                     Yes              No                No                59\n",
       "                                                        Yes               34\n",
       "                                      Yes               No               127\n",
       "                                                        Yes               41\n",
       "Name: HeartDisease, Length: 208, dtype: int64"
      ]
     },
     "execution_count": 27,
     "metadata": {},
     "output_type": "execute_result"
    }
   ],
   "source": [
    "df.groupby(['Sex','AgeCategory','AlcoholDrinking','PhysicalActivity','HeartDisease'])['HeartDisease'].count()"
   ]
  },
  {
   "cell_type": "code",
   "execution_count": 28,
   "id": "1dea54f7",
   "metadata": {},
   "outputs": [
    {
     "data": {
      "image/png": "[encoded data removed]",
      "text/plain": [
       "<Figure size 1000x600 with 1 Axes>"
      ]
     },
     "metadata": {},
     "output_type": "display_data"
    }
   ],
   "source": [
    "#Show how many people drink the AlcoholDrinking or not \n",
    "plt.figure(figsize=(10,6))\n",
    "sns.countplot(x=df['AlcoholDrinking'],data=df , hue='HeartDisease',palette='winter')\n",
    "plt.title('people drinking the AlcoholDrinking')\n",
    "plt.legend([\"Haven't Disease\", \"Have Disease\"])\n",
    "plt.xlabel('AlcoholDrinking')\n",
    "plt.show()"
   ]
  },
  {
   "cell_type": "code",
   "execution_count": 29,
   "id": "efaf3bee",
   "metadata": {},
   "outputs": [
    {
     "data": {
      "text/plain": [
       "No     289941\n",
       "Yes     11776\n",
       "Name: KidneyDisease, dtype: int64"
      ]
     },
     "execution_count": 29,
     "metadata": {},
     "output_type": "execute_result"
    }
   ],
   "source": [
    "#I want to know how many people have KidneyDisease\n",
    "df['KidneyDisease'].value_counts()"
   ]
  },
  {
   "cell_type": "code",
   "execution_count": 30,
   "id": "e6384d06",
   "metadata": {},
   "outputs": [
    {
     "data": {
      "text/plain": [
       "KidneyDisease  HeartDisease\n",
       "No             No              266134\n",
       "               Yes              23807\n",
       "Yes            No                8322\n",
       "               Yes               3454\n",
       "Name: HeartDisease, dtype: int64"
      ]
     },
     "execution_count": 30,
     "metadata": {},
     "output_type": "execute_result"
    }
   ],
   "source": [
    "#show the peolple who have KidneyDisease and HeartDisease\n",
    "df.groupby(['KidneyDisease','HeartDisease'])['HeartDisease'].count()"
   ]
  },
  {
   "cell_type": "code",
   "execution_count": 31,
   "id": "58717712",
   "metadata": {},
   "outputs": [
    {
     "data": {
      "image/png": "[encoded data removed]",
      "text/plain": [
       "<Figure size 1000x500 with 1 Axes>"
      ]
     },
     "metadata": {},
     "output_type": "display_data"
    }
   ],
   "source": [
    "plt.figure(figsize=(10,5))\n",
    "sns.countplot( x = 'KidneyDisease', data=df, hue='HeartDisease',palette=['blue','green'])\n",
    "plt.title('people have KidneyDisease')\n",
    "plt.legend([\"Haven't Disease\", \"Have Disease\"])\n",
    "plt.show()"
   ]
  },
  {
   "cell_type": "code",
   "execution_count": 32,
   "id": "fece6b05",
   "metadata": {},
   "outputs": [
    {
     "data": {
      "text/plain": [
       "Sex     KidneyDisease\n",
       "Female  No               153218\n",
       "        Yes                6453\n",
       "Male    No               136723\n",
       "        Yes                5323\n",
       "Name: KidneyDisease, dtype: int64"
      ]
     },
     "execution_count": 32,
     "metadata": {},
     "output_type": "execute_result"
    }
   ],
   "source": [
    "df.groupby(['Sex','KidneyDisease'])['KidneyDisease'].count()"
   ]
  },
  {
   "cell_type": "code",
   "execution_count": 33,
   "id": "c48ef4a2",
   "metadata": {},
   "outputs": [
    {
     "data": {
      "text/plain": [
       "No     272425\n",
       "Yes     29292\n",
       "Name: SkinCancer, dtype: int64"
      ]
     },
     "execution_count": 33,
     "metadata": {},
     "output_type": "execute_result"
    }
   ],
   "source": [
    "#Show the SkinCancer  \n",
    "df['SkinCancer'].value_counts()"
   ]
  },
  {
   "cell_type": "code",
   "execution_count": 34,
   "id": "8c4d513b",
   "metadata": {},
   "outputs": [
    {
     "data": {
      "text/plain": [
       "Sex     SkinCancer\n",
       "Female  No            144876\n",
       "        Yes            14795\n",
       "Male    No            127549\n",
       "        Yes            14497\n",
       "Name: SkinCancer, dtype: int64"
      ]
     },
     "execution_count": 34,
     "metadata": {},
     "output_type": "execute_result"
    }
   ],
   "source": [
    "#Show people have SkinCancer\n",
    "df.groupby(['Sex','SkinCancer'])['SkinCancer'].count()"
   ]
  },
  {
   "cell_type": "code",
   "execution_count": 35,
   "id": "1ebded58",
   "metadata": {},
   "outputs": [
    {
     "data": {
      "image/png": "[encoded data removed]",
      "text/plain": [
       "<Figure size 1000x500 with 1 Axes>"
      ]
     },
     "metadata": {},
     "output_type": "display_data"
    }
   ],
   "source": [
    "plt.figure(figsize=(10,5))\n",
    "sns.countplot(x='Sex',data=df, hue='SkinCancer',palette='winter')\n",
    "plt.title('people have SkinCancer')\n",
    "plt.show()"
   ]
  },
  {
   "cell_type": "code",
   "execution_count": 36,
   "id": "7e534e93",
   "metadata": {},
   "outputs": [
    {
     "data": {
      "text/plain": [
       "Sex     SkinCancer  HeartDisease\n",
       "Female  No          No              135339\n",
       "                    Yes               9537\n",
       "        Yes         No               13119\n",
       "                    Yes               1676\n",
       "Male    No          No              114793\n",
       "                    Yes              12756\n",
       "        Yes         No               11205\n",
       "                    Yes               3292\n",
       "Name: HeartDisease, dtype: int64"
      ]
     },
     "execution_count": 36,
     "metadata": {},
     "output_type": "execute_result"
    }
   ],
   "source": [
    "df.groupby(['Sex','SkinCancer','HeartDisease'])['HeartDisease'].count()"
   ]
  },
  {
   "cell_type": "code",
   "execution_count": 37,
   "id": "699748fb",
   "metadata": {},
   "outputs": [
    {
     "data": {
      "image/png": "[encoded data removed]",
      "text/plain": [
       "<Figure size 640x480 with 1 Axes>"
      ]
     },
     "metadata": {},
     "output_type": "display_data"
    }
   ],
   "source": [
    "sns.countplot(x = 'SkinCancer', data=df , hue = 'HeartDisease')\n",
    "plt.title('people have SkinCancer and HeartDisease')\n",
    "plt.legend([\"Haven't Disease\", \"Have Disease\"])\n",
    "plt.show()"
   ]
  },
  {
   "cell_type": "markdown",
   "id": "7a6d4534",
   "metadata": {},
   "source": [
    "# Check the Distribution and skewness of the features"
   ]
  },
  {
   "cell_type": "code",
   "execution_count": 38,
   "id": "9e6c8a83",
   "metadata": {},
   "outputs": [],
   "source": [
    "#sns.pairplot(data = df , hue= 'HeartDisease')\n",
    "#plt.legend('HeartDisease')"
   ]
  },
  {
   "cell_type": "code",
   "execution_count": 39,
   "id": "b92cf8c1",
   "metadata": {},
   "outputs": [
    {
     "data": {
      "text/html": [
       "<div>\n",
       "<style scoped>\n",
       "    .dataframe tbody tr th:only-of-type {\n",
       "        vertical-align: middle;\n",
       "    }\n",
       "\n",
       "    .dataframe tbody tr th {\n",
       "        vertical-align: top;\n",
       "    }\n",
       "\n",
       "    .dataframe thead th {\n",
       "        text-align: right;\n",
       "    }\n",
       "</style>\n",
       "<table border=\"1\" class=\"dataframe\">\n",
       "  <thead>\n",
       "    <tr style=\"text-align: right;\">\n",
       "      <th></th>\n",
       "      <th>HeartDisease</th>\n",
       "      <th>BMI</th>\n",
       "      <th>Smoking</th>\n",
       "      <th>AlcoholDrinking</th>\n",
       "      <th>Stroke</th>\n",
       "      <th>PhysicalHealth</th>\n",
       "      <th>MentalHealth</th>\n",
       "      <th>DiffWalking</th>\n",
       "      <th>Sex</th>\n",
       "      <th>AgeCategory</th>\n",
       "      <th>Race</th>\n",
       "      <th>Diabetic</th>\n",
       "      <th>PhysicalActivity</th>\n",
       "      <th>GenHealth</th>\n",
       "      <th>SleepTime</th>\n",
       "      <th>Asthma</th>\n",
       "      <th>KidneyDisease</th>\n",
       "      <th>SkinCancer</th>\n",
       "    </tr>\n",
       "  </thead>\n",
       "  <tbody>\n",
       "    <tr>\n",
       "      <th>0</th>\n",
       "      <td>0</td>\n",
       "      <td>223</td>\n",
       "      <td>1</td>\n",
       "      <td>0</td>\n",
       "      <td>0</td>\n",
       "      <td>3</td>\n",
       "      <td>30</td>\n",
       "      <td>0</td>\n",
       "      <td>0</td>\n",
       "      <td>7</td>\n",
       "      <td>5</td>\n",
       "      <td>2</td>\n",
       "      <td>1</td>\n",
       "      <td>4</td>\n",
       "      <td>4</td>\n",
       "      <td>1</td>\n",
       "      <td>0</td>\n",
       "      <td>1</td>\n",
       "    </tr>\n",
       "    <tr>\n",
       "      <th>1</th>\n",
       "      <td>0</td>\n",
       "      <td>524</td>\n",
       "      <td>0</td>\n",
       "      <td>0</td>\n",
       "      <td>1</td>\n",
       "      <td>0</td>\n",
       "      <td>0</td>\n",
       "      <td>0</td>\n",
       "      <td>0</td>\n",
       "      <td>12</td>\n",
       "      <td>5</td>\n",
       "      <td>0</td>\n",
       "      <td>1</td>\n",
       "      <td>4</td>\n",
       "      <td>6</td>\n",
       "      <td>0</td>\n",
       "      <td>0</td>\n",
       "      <td>0</td>\n",
       "    </tr>\n",
       "    <tr>\n",
       "      <th>2</th>\n",
       "      <td>0</td>\n",
       "      <td>1103</td>\n",
       "      <td>1</td>\n",
       "      <td>0</td>\n",
       "      <td>0</td>\n",
       "      <td>20</td>\n",
       "      <td>30</td>\n",
       "      <td>0</td>\n",
       "      <td>1</td>\n",
       "      <td>9</td>\n",
       "      <td>5</td>\n",
       "      <td>2</td>\n",
       "      <td>1</td>\n",
       "      <td>1</td>\n",
       "      <td>7</td>\n",
       "      <td>1</td>\n",
       "      <td>0</td>\n",
       "      <td>0</td>\n",
       "    </tr>\n",
       "    <tr>\n",
       "      <th>3</th>\n",
       "      <td>0</td>\n",
       "      <td>883</td>\n",
       "      <td>0</td>\n",
       "      <td>0</td>\n",
       "      <td>0</td>\n",
       "      <td>0</td>\n",
       "      <td>0</td>\n",
       "      <td>0</td>\n",
       "      <td>0</td>\n",
       "      <td>11</td>\n",
       "      <td>5</td>\n",
       "      <td>0</td>\n",
       "      <td>0</td>\n",
       "      <td>2</td>\n",
       "      <td>5</td>\n",
       "      <td>0</td>\n",
       "      <td>0</td>\n",
       "      <td>1</td>\n",
       "    </tr>\n",
       "    <tr>\n",
       "      <th>4</th>\n",
       "      <td>0</td>\n",
       "      <td>837</td>\n",
       "      <td>0</td>\n",
       "      <td>0</td>\n",
       "      <td>0</td>\n",
       "      <td>28</td>\n",
       "      <td>0</td>\n",
       "      <td>1</td>\n",
       "      <td>0</td>\n",
       "      <td>4</td>\n",
       "      <td>5</td>\n",
       "      <td>0</td>\n",
       "      <td>1</td>\n",
       "      <td>4</td>\n",
       "      <td>7</td>\n",
       "      <td>0</td>\n",
       "      <td>0</td>\n",
       "      <td>0</td>\n",
       "    </tr>\n",
       "    <tr>\n",
       "      <th>...</th>\n",
       "      <td>...</td>\n",
       "      <td>...</td>\n",
       "      <td>...</td>\n",
       "      <td>...</td>\n",
       "      <td>...</td>\n",
       "      <td>...</td>\n",
       "      <td>...</td>\n",
       "      <td>...</td>\n",
       "      <td>...</td>\n",
       "      <td>...</td>\n",
       "      <td>...</td>\n",
       "      <td>...</td>\n",
       "      <td>...</td>\n",
       "      <td>...</td>\n",
       "      <td>...</td>\n",
       "      <td>...</td>\n",
       "      <td>...</td>\n",
       "      <td>...</td>\n",
       "    </tr>\n",
       "    <tr>\n",
       "      <th>319790</th>\n",
       "      <td>1</td>\n",
       "      <td>1180</td>\n",
       "      <td>1</td>\n",
       "      <td>0</td>\n",
       "      <td>0</td>\n",
       "      <td>7</td>\n",
       "      <td>0</td>\n",
       "      <td>1</td>\n",
       "      <td>1</td>\n",
       "      <td>8</td>\n",
       "      <td>3</td>\n",
       "      <td>2</td>\n",
       "      <td>0</td>\n",
       "      <td>1</td>\n",
       "      <td>5</td>\n",
       "      <td>1</td>\n",
       "      <td>0</td>\n",
       "      <td>0</td>\n",
       "    </tr>\n",
       "    <tr>\n",
       "      <th>319791</th>\n",
       "      <td>0</td>\n",
       "      <td>1397</td>\n",
       "      <td>1</td>\n",
       "      <td>0</td>\n",
       "      <td>0</td>\n",
       "      <td>0</td>\n",
       "      <td>0</td>\n",
       "      <td>0</td>\n",
       "      <td>1</td>\n",
       "      <td>3</td>\n",
       "      <td>3</td>\n",
       "      <td>0</td>\n",
       "      <td>1</td>\n",
       "      <td>4</td>\n",
       "      <td>4</td>\n",
       "      <td>1</td>\n",
       "      <td>0</td>\n",
       "      <td>0</td>\n",
       "    </tr>\n",
       "    <tr>\n",
       "      <th>319792</th>\n",
       "      <td>0</td>\n",
       "      <td>886</td>\n",
       "      <td>0</td>\n",
       "      <td>0</td>\n",
       "      <td>0</td>\n",
       "      <td>0</td>\n",
       "      <td>0</td>\n",
       "      <td>0</td>\n",
       "      <td>0</td>\n",
       "      <td>5</td>\n",
       "      <td>3</td>\n",
       "      <td>0</td>\n",
       "      <td>1</td>\n",
       "      <td>2</td>\n",
       "      <td>5</td>\n",
       "      <td>0</td>\n",
       "      <td>0</td>\n",
       "      <td>0</td>\n",
       "    </tr>\n",
       "    <tr>\n",
       "      <th>319793</th>\n",
       "      <td>0</td>\n",
       "      <td>1658</td>\n",
       "      <td>0</td>\n",
       "      <td>0</td>\n",
       "      <td>0</td>\n",
       "      <td>0</td>\n",
       "      <td>0</td>\n",
       "      <td>0</td>\n",
       "      <td>0</td>\n",
       "      <td>1</td>\n",
       "      <td>3</td>\n",
       "      <td>0</td>\n",
       "      <td>0</td>\n",
       "      <td>2</td>\n",
       "      <td>11</td>\n",
       "      <td>0</td>\n",
       "      <td>0</td>\n",
       "      <td>0</td>\n",
       "    </tr>\n",
       "    <tr>\n",
       "      <th>319794</th>\n",
       "      <td>0</td>\n",
       "      <td>2700</td>\n",
       "      <td>0</td>\n",
       "      <td>0</td>\n",
       "      <td>0</td>\n",
       "      <td>0</td>\n",
       "      <td>0</td>\n",
       "      <td>0</td>\n",
       "      <td>0</td>\n",
       "      <td>12</td>\n",
       "      <td>3</td>\n",
       "      <td>0</td>\n",
       "      <td>1</td>\n",
       "      <td>2</td>\n",
       "      <td>7</td>\n",
       "      <td>0</td>\n",
       "      <td>0</td>\n",
       "      <td>0</td>\n",
       "    </tr>\n",
       "  </tbody>\n",
       "</table>\n",
       "<p>301717 rows × 18 columns</p>\n",
       "</div>"
      ],
      "text/plain": [
       "        HeartDisease   BMI  Smoking  AlcoholDrinking  Stroke  PhysicalHealth  \\\n",
       "0                  0   223        1                0       0               3   \n",
       "1                  0   524        0                0       1               0   \n",
       "2                  0  1103        1                0       0              20   \n",
       "3                  0   883        0                0       0               0   \n",
       "4                  0   837        0                0       0              28   \n",
       "...              ...   ...      ...              ...     ...             ...   \n",
       "319790             1  1180        1                0       0               7   \n",
       "319791             0  1397        1                0       0               0   \n",
       "319792             0   886        0                0       0               0   \n",
       "319793             0  1658        0                0       0               0   \n",
       "319794             0  2700        0                0       0               0   \n",
       "\n",
       "        MentalHealth  DiffWalking  Sex  AgeCategory  Race  Diabetic  \\\n",
       "0                 30            0    0            7     5         2   \n",
       "1                  0            0    0           12     5         0   \n",
       "2                 30            0    1            9     5         2   \n",
       "3                  0            0    0           11     5         0   \n",
       "4                  0            1    0            4     5         0   \n",
       "...              ...          ...  ...          ...   ...       ...   \n",
       "319790             0            1    1            8     3         2   \n",
       "319791             0            0    1            3     3         0   \n",
       "319792             0            0    0            5     3         0   \n",
       "319793             0            0    0            1     3         0   \n",
       "319794             0            0    0           12     3         0   \n",
       "\n",
       "        PhysicalActivity  GenHealth  SleepTime  Asthma  KidneyDisease  \\\n",
       "0                      1          4          4       1              0   \n",
       "1                      1          4          6       0              0   \n",
       "2                      1          1          7       1              0   \n",
       "3                      0          2          5       0              0   \n",
       "4                      1          4          7       0              0   \n",
       "...                  ...        ...        ...     ...            ...   \n",
       "319790                 0          1          5       1              0   \n",
       "319791                 1          4          4       1              0   \n",
       "319792                 1          2          5       0              0   \n",
       "319793                 0          2         11       0              0   \n",
       "319794                 1          2          7       0              0   \n",
       "\n",
       "        SkinCancer  \n",
       "0                1  \n",
       "1                0  \n",
       "2                0  \n",
       "3                1  \n",
       "4                0  \n",
       "...            ...  \n",
       "319790           0  \n",
       "319791           0  \n",
       "319792           0  \n",
       "319793           0  \n",
       "319794           0  \n",
       "\n",
       "[301717 rows x 18 columns]"
      ]
     },
     "execution_count": 39,
     "metadata": {},
     "output_type": "execute_result"
    }
   ],
   "source": [
    "label=LabelEncoder()\n",
    "for col in df:\n",
    "    df[col]=label.fit_transform(df[col])\n",
    "df "
   ]
  },
  {
   "cell_type": "code",
   "execution_count": 40,
   "id": "2bbacba0",
   "metadata": {},
   "outputs": [],
   "source": [
    "x = df.drop('HeartDisease',axis=1)\n",
    "y = df[['HeartDisease']]"
   ]
  },
  {
   "cell_type": "code",
   "execution_count": 41,
   "id": "1730f8f7",
   "metadata": {},
   "outputs": [],
   "source": [
    "xtrain, xtest, ytrain, ytest = train_test_split(x, y, train_size=.75,random_state=42) "
   ]
  },
  {
   "cell_type": "code",
   "execution_count": 42,
   "id": "411bdbca",
   "metadata": {},
   "outputs": [],
   "source": [
    "Clf = DecisionTreeClassifier() "
   ]
  },
  {
   "cell_type": "code",
   "execution_count": 43,
   "id": "d2f7d069",
   "metadata": {},
   "outputs": [
    {
     "data": {
      "text/plain": [
       "DecisionTreeClassifier()"
      ]
     },
     "execution_count": 43,
     "metadata": {},
     "output_type": "execute_result"
    }
   ],
   "source": [
    "Clf.fit(xtrain,ytrain) "
   ]
  },
  {
   "cell_type": "code",
   "execution_count": 44,
   "id": "3491f112",
   "metadata": {},
   "outputs": [
    {
     "data": {
      "text/plain": [
       "0.8537054222457908"
      ]
     },
     "execution_count": 44,
     "metadata": {},
     "output_type": "execute_result"
    }
   ],
   "source": [
    "Clf.score(xtest,ytest) # after sampling"
   ]
  },
  {
   "cell_type": "code",
   "execution_count": 45,
   "id": "a9c89873",
   "metadata": {},
   "outputs": [
    {
     "data": {
      "text/plain": [
       "0.961417487247984"
      ]
     },
     "execution_count": 45,
     "metadata": {},
     "output_type": "execute_result"
    }
   ],
   "source": [
    "Clf.score(x,y) "
   ]
  },
  {
   "cell_type": "markdown",
   "id": "8bf3e9c0",
   "metadata": {},
   "source": [
    "# Over Sampling"
   ]
  },
  {
   "cell_type": "code",
   "execution_count": 47,
   "id": "8c9972ac",
   "metadata": {},
   "outputs": [],
   "source": [
    "over = RandomOverSampler(random_state=42)"
   ]
  },
  {
   "cell_type": "code",
   "execution_count": 48,
   "id": "e76a8a2e",
   "metadata": {},
   "outputs": [],
   "source": [
    "x_new , y_new = over.fit_resample(x,y)"
   ]
  },
  {
   "cell_type": "markdown",
   "id": "3455031a",
   "metadata": {},
   "source": [
    "# Hold Out Cross Validation"
   ]
  },
  {
   "cell_type": "code",
   "execution_count": 49,
   "id": "400b4e9c",
   "metadata": {},
   "outputs": [],
   "source": [
    "xtrain, xtest, ytrain, ytest = train_test_split(x_new, y_new, train_size=.75,random_state=42) "
   ]
  },
  {
   "cell_type": "code",
   "execution_count": 50,
   "id": "e7cc4349",
   "metadata": {},
   "outputs": [],
   "source": [
    "dt = DecisionTreeClassifier() "
   ]
  },
  {
   "cell_type": "code",
   "execution_count": 51,
   "id": "2a0e40ee",
   "metadata": {},
   "outputs": [
    {
     "data": {
      "text/plain": [
       "DecisionTreeClassifier()"
      ]
     },
     "execution_count": 51,
     "metadata": {},
     "output_type": "execute_result"
    }
   ],
   "source": [
    "dt.fit(xtrain,ytrain) "
   ]
  },
  {
   "cell_type": "code",
   "execution_count": 52,
   "id": "de958e55",
   "metadata": {},
   "outputs": [
    {
     "data": {
      "text/plain": [
       "0.9504984405514909"
      ]
     },
     "execution_count": 52,
     "metadata": {},
     "output_type": "execute_result"
    }
   ],
   "source": [
    "dt.score(xtest,ytest) # after sampling"
   ]
  },
  {
   "cell_type": "code",
   "execution_count": 53,
   "id": "ea343cb6",
   "metadata": {},
   "outputs": [
    {
     "data": {
      "text/plain": [
       "0.9979328805588753"
      ]
     },
     "execution_count": 53,
     "metadata": {},
     "output_type": "execute_result"
    }
   ],
   "source": [
    "dt.score(xtrain,ytrain) # after sampling"
   ]
  },
  {
   "cell_type": "markdown",
   "id": "206925db",
   "metadata": {},
   "source": [
    "# Without sampling¶"
   ]
  },
  {
   "cell_type": "code",
   "execution_count": 54,
   "id": "e7759fe5",
   "metadata": {},
   "outputs": [
    {
     "data": {
      "text/plain": [
       "(301717, 17)"
      ]
     },
     "execution_count": 54,
     "metadata": {},
     "output_type": "execute_result"
    }
   ],
   "source": [
    "x.shape"
   ]
  },
  {
   "cell_type": "code",
   "execution_count": 55,
   "id": "26814cad",
   "metadata": {},
   "outputs": [],
   "source": [
    "xtrain1, xtest1, ytrain1, ytest1 = train_test_split(x, y, train_size=.75,random_state=42) "
   ]
  },
  {
   "cell_type": "code",
   "execution_count": 56,
   "id": "bf5814ed",
   "metadata": {},
   "outputs": [
    {
     "data": {
      "text/plain": [
       "DecisionTreeClassifier()"
      ]
     },
     "execution_count": 56,
     "metadata": {},
     "output_type": "execute_result"
    }
   ],
   "source": [
    "dt.fit(xtrain1, ytrain1) "
   ]
  },
  {
   "cell_type": "code",
   "execution_count": 57,
   "id": "c25cedbe",
   "metadata": {},
   "outputs": [
    {
     "data": {
      "text/plain": [
       "0.8537054222457908"
      ]
     },
     "execution_count": 57,
     "metadata": {},
     "output_type": "execute_result"
    }
   ],
   "source": [
    "dt.score(xtest1,ytest1) # imbalanced old data"
   ]
  },
  {
   "cell_type": "markdown",
   "id": "aadf906d",
   "metadata": {},
   "source": [
    "# Random Forest"
   ]
  },
  {
   "cell_type": "code",
   "execution_count": 58,
   "id": "5f465855",
   "metadata": {},
   "outputs": [
    {
     "name": "stderr",
     "output_type": "stream",
     "text": [
      "C:\\Users\\amt\\AppData\\Local\\Temp\\ipykernel_4756\\307019015.py:5: DataConversionWarning: A column-vector y was passed when a 1d array was expected. Please change the shape of y to (n_samples,), for example using ravel().\n",
      "  rf.fit(xtrain, ytrain)\n"
     ]
    },
    {
     "name": "stdout",
     "output_type": "stream",
     "text": [
      "Training accuracy: 0.9979304515113534\n",
      "Testing accuracy: 0.9670402541755327\n"
     ]
    }
   ],
   "source": [
    "# Focal cell:\n",
    "rf = RandomForestClassifier()\n",
    "\n",
    "# Train the random forest model\n",
    "rf.fit(xtrain, ytrain)\n",
    "\n",
    "# Calculate the accuracy score on the training data\n",
    "train_score = rf.score(xtrain, ytrain)\n",
    "print(\"Training accuracy:\", train_score)\n",
    "\n",
    "# Calculate the accuracy score on the testing data\n",
    "test_score = rf.score(xtest, ytest)\n",
    "print(\"Testing accuracy:\", test_score)\n"
   ]
  },
  {
   "cell_type": "code",
   "execution_count": 59,
   "id": "f4534d36",
   "metadata": {},
   "outputs": [
    {
     "name": "stdout",
     "output_type": "stream",
     "text": [
      "Training accuracy: 0.786387131877848\n",
      "Testing accuracy: 0.7804311073541843\n"
     ]
    }
   ],
   "source": [
    "# Create an instance of XGBClassifier\n",
    "xgb = XGBClassifier()\n",
    "\n",
    "# Fit the model on the training data\n",
    "xgb.fit(xtrain, ytrain)\n",
    "\n",
    "# Calculate the accuracy score on the training data\n",
    "train_score = xgb.score(xtrain, ytrain)\n",
    "print(\"Training accuracy:\", train_score)\n",
    "\n",
    "# Calculate the accuracy score on the test data\n",
    "test_score = xgb.score(xtest, ytest)\n",
    "print(\"Testing accuracy:\", test_score)"
   ]
  },
  {
   "cell_type": "markdown",
   "id": "169ff890",
   "metadata": {},
   "source": [
    "# K Fold Cross Validation"
   ]
  },
  {
   "cell_type": "code",
   "execution_count": 61,
   "id": "59b1204f",
   "metadata": {},
   "outputs": [],
   "source": [
    "kfold = KFold(n_splits=5, shuffle=True) #each fold contain 25% data"
   ]
  },
  {
   "cell_type": "code",
   "execution_count": 62,
   "id": "c7343b80",
   "metadata": {},
   "outputs": [],
   "source": [
    "result = cross_val_score(xgb, x_new, y_new, cv=kfold) "
   ]
  },
  {
   "cell_type": "code",
   "execution_count": 63,
   "id": "19a4ed70",
   "metadata": {},
   "outputs": [
    {
     "data": {
      "text/plain": [
       "array([0.78134137, 0.78252553, 0.78157621, 0.77999126, 0.78305187])"
      ]
     },
     "execution_count": 63,
     "metadata": {},
     "output_type": "execute_result"
    }
   ],
   "source": [
    "result"
   ]
  },
  {
   "cell_type": "code",
   "execution_count": 64,
   "id": "714d2f7d",
   "metadata": {},
   "outputs": [
    {
     "data": {
      "text/plain": [
       "0.7816972475143447"
      ]
     },
     "execution_count": 64,
     "metadata": {},
     "output_type": "execute_result"
    }
   ],
   "source": [
    "result.mean()"
   ]
  },
  {
   "cell_type": "code",
   "execution_count": 65,
   "id": "5dec3ada",
   "metadata": {},
   "outputs": [
    {
     "data": {
      "text/plain": [
       "0.7830518664261901"
      ]
     },
     "execution_count": 65,
     "metadata": {},
     "output_type": "execute_result"
    }
   ],
   "source": [
    "result.max()"
   ]
  },
  {
   "cell_type": "code",
   "execution_count": 66,
   "id": "2f2b17a0",
   "metadata": {},
   "outputs": [
    {
     "data": {
      "text/plain": [
       "0.7799912553970596"
      ]
     },
     "execution_count": 66,
     "metadata": {},
     "output_type": "execute_result"
    }
   ],
   "source": [
    "result.min()"
   ]
  },
  {
   "cell_type": "markdown",
   "id": "48c86629",
   "metadata": {},
   "source": [
    "# dimantionally reduction using pca"
   ]
  },
  {
   "cell_type": "code",
   "execution_count": 68,
   "id": "8860d40d",
   "metadata": {},
   "outputs": [],
   "source": [
    "mmx = MinMaxScaler()"
   ]
  },
  {
   "cell_type": "code",
   "execution_count": 69,
   "id": "101833fc",
   "metadata": {},
   "outputs": [],
   "source": [
    "scaled_x = mmx.fit_transform(x_new)"
   ]
  },
  {
   "cell_type": "code",
   "execution_count": 70,
   "id": "8f196aa9",
   "metadata": {},
   "outputs": [
    {
     "data": {
      "text/plain": [
       "(548912, 17)"
      ]
     },
     "execution_count": 70,
     "metadata": {},
     "output_type": "execute_result"
    }
   ],
   "source": [
    "scaled_x.shape"
   ]
  },
  {
   "cell_type": "code",
   "execution_count": 71,
   "id": "d817bf6e",
   "metadata": {},
   "outputs": [
    {
     "data": {
      "text/plain": [
       "array([[0.06189287, 1.        , 0.        , ..., 1.        , 0.        ,\n",
       "        1.        ],\n",
       "       [0.14543436, 0.        , 0.        , ..., 0.        , 0.        ,\n",
       "        0.        ],\n",
       "       [0.30613378, 1.        , 0.        , ..., 1.        , 0.        ,\n",
       "        0.        ],\n",
       "       ...,\n",
       "       [0.18262559, 1.        , 1.        , ..., 0.        , 0.        ,\n",
       "        0.        ],\n",
       "       [0.19816819, 1.        , 0.        , ..., 0.        , 0.        ,\n",
       "        1.        ],\n",
       "       [0.3719123 , 0.        , 0.        , ..., 0.        , 0.        ,\n",
       "        0.        ]])"
      ]
     },
     "execution_count": 71,
     "metadata": {},
     "output_type": "execute_result"
    }
   ],
   "source": [
    "scaled_x"
   ]
  },
  {
   "cell_type": "code",
   "execution_count": 72,
   "id": "60f57144",
   "metadata": {},
   "outputs": [],
   "source": [
    "from sklearn.decomposition import PCA"
   ]
  },
  {
   "cell_type": "code",
   "execution_count": 73,
   "id": "dbebc116",
   "metadata": {},
   "outputs": [],
   "source": [
    "pca = PCA(n_components=3)\n",
    "x_pca = pca.fit_transform(scaled_x)"
   ]
  },
  {
   "cell_type": "code",
   "execution_count": 74,
   "id": "e65caca8",
   "metadata": {},
   "outputs": [
    {
     "data": {
      "text/plain": [
       "array([[ 0.24440643,  0.14185431, -0.79604603],\n",
       "       [-0.43094158,  0.57796364, -0.0873952 ],\n",
       "       [ 0.35468186, -0.54686267, -0.18634795],\n",
       "       ...,\n",
       "       [-0.16504392,  0.01194445, -0.88737279],\n",
       "       [-0.08601911, -0.84408027, -0.11304227],\n",
       "       [-0.69425573, -0.19399268,  0.42696269]])"
      ]
     },
     "execution_count": 74,
     "metadata": {},
     "output_type": "execute_result"
    }
   ],
   "source": [
    "x_pca"
   ]
  },
  {
   "cell_type": "code",
   "execution_count": 75,
   "id": "62562b4c",
   "metadata": {},
   "outputs": [],
   "source": [
    "features = pd.DataFrame(x_pca, columns=['pca1','pca2','pca3'])"
   ]
  },
  {
   "cell_type": "code",
   "execution_count": 77,
   "id": "f1163a9b",
   "metadata": {},
   "outputs": [],
   "source": [
    "xtrain, xtest, ytrain, ytest = train_test_split(features, y_new, train_size=.70,random_state=42) "
   ]
  },
  {
   "cell_type": "code",
   "execution_count": 78,
   "id": "17d6278b",
   "metadata": {},
   "outputs": [
    {
     "data": {
      "text/html": [
       "<div>\n",
       "<style scoped>\n",
       "    .dataframe tbody tr th:only-of-type {\n",
       "        vertical-align: middle;\n",
       "    }\n",
       "\n",
       "    .dataframe tbody tr th {\n",
       "        vertical-align: top;\n",
       "    }\n",
       "\n",
       "    .dataframe thead th {\n",
       "        text-align: right;\n",
       "    }\n",
       "</style>\n",
       "<table border=\"1\" class=\"dataframe\">\n",
       "  <thead>\n",
       "    <tr style=\"text-align: right;\">\n",
       "      <th></th>\n",
       "      <th>pca1</th>\n",
       "      <th>pca2</th>\n",
       "      <th>pca3</th>\n",
       "    </tr>\n",
       "  </thead>\n",
       "  <tbody>\n",
       "    <tr>\n",
       "      <th>78195</th>\n",
       "      <td>-0.649357</td>\n",
       "      <td>0.630032</td>\n",
       "      <td>-0.154359</td>\n",
       "    </tr>\n",
       "    <tr>\n",
       "      <th>17062</th>\n",
       "      <td>-0.574141</td>\n",
       "      <td>0.616582</td>\n",
       "      <td>-0.153244</td>\n",
       "    </tr>\n",
       "    <tr>\n",
       "      <th>158180</th>\n",
       "      <td>-0.664553</td>\n",
       "      <td>0.648402</td>\n",
       "      <td>-0.144902</td>\n",
       "    </tr>\n",
       "    <tr>\n",
       "      <th>333159</th>\n",
       "      <td>-0.189725</td>\n",
       "      <td>-0.754398</td>\n",
       "      <td>-0.204420</td>\n",
       "    </tr>\n",
       "    <tr>\n",
       "      <th>357122</th>\n",
       "      <td>-0.319620</td>\n",
       "      <td>-0.721643</td>\n",
       "      <td>-0.269227</td>\n",
       "    </tr>\n",
       "    <tr>\n",
       "      <th>...</th>\n",
       "      <td>...</td>\n",
       "      <td>...</td>\n",
       "      <td>...</td>\n",
       "    </tr>\n",
       "    <tr>\n",
       "      <th>110268</th>\n",
       "      <td>-0.693407</td>\n",
       "      <td>-0.194252</td>\n",
       "      <td>0.433296</td>\n",
       "    </tr>\n",
       "    <tr>\n",
       "      <th>259178</th>\n",
       "      <td>0.488400</td>\n",
       "      <td>0.354713</td>\n",
       "      <td>-0.655483</td>\n",
       "    </tr>\n",
       "    <tr>\n",
       "      <th>365838</th>\n",
       "      <td>1.238449</td>\n",
       "      <td>-0.490444</td>\n",
       "      <td>0.427704</td>\n",
       "    </tr>\n",
       "    <tr>\n",
       "      <th>131932</th>\n",
       "      <td>0.817173</td>\n",
       "      <td>0.991137</td>\n",
       "      <td>0.348082</td>\n",
       "    </tr>\n",
       "    <tr>\n",
       "      <th>121958</th>\n",
       "      <td>-0.586625</td>\n",
       "      <td>0.586467</td>\n",
       "      <td>-0.144700</td>\n",
       "    </tr>\n",
       "  </tbody>\n",
       "</table>\n",
       "<p>384238 rows × 3 columns</p>\n",
       "</div>"
      ],
      "text/plain": [
       "            pca1      pca2      pca3\n",
       "78195  -0.649357  0.630032 -0.154359\n",
       "17062  -0.574141  0.616582 -0.153244\n",
       "158180 -0.664553  0.648402 -0.144902\n",
       "333159 -0.189725 -0.754398 -0.204420\n",
       "357122 -0.319620 -0.721643 -0.269227\n",
       "...          ...       ...       ...\n",
       "110268 -0.693407 -0.194252  0.433296\n",
       "259178  0.488400  0.354713 -0.655483\n",
       "365838  1.238449 -0.490444  0.427704\n",
       "131932  0.817173  0.991137  0.348082\n",
       "121958 -0.586625  0.586467 -0.144700\n",
       "\n",
       "[384238 rows x 3 columns]"
      ]
     },
     "execution_count": 78,
     "metadata": {},
     "output_type": "execute_result"
    }
   ],
   "source": [
    "xtrain"
   ]
  },
  {
   "cell_type": "markdown",
   "id": "e9064dab",
   "metadata": {},
   "source": [
    "# KNeighborsClassifier"
   ]
  },
  {
   "cell_type": "code",
   "execution_count": 80,
   "id": "e33d783f",
   "metadata": {},
   "outputs": [
    {
     "name": "stderr",
     "output_type": "stream",
     "text": [
      "C:\\Users\\amt\\anaconda3\\lib\\site-packages\\sklearn\\neighbors\\_classification.py:198: DataConversionWarning: A column-vector y was passed when a 1d array was expected. Please change the shape of y to (n_samples,), for example using ravel().\n",
      "  return self._fit(X, y)\n",
      "C:\\Users\\amt\\anaconda3\\lib\\site-packages\\sklearn\\neighbors\\_classification.py:228: FutureWarning: Unlike other reduction functions (e.g. `skew`, `kurtosis`), the default behavior of `mode` typically preserves the axis it acts along. In SciPy 1.11.0, this behavior will change: the default value of `keepdims` will become False, the `axis` over which the statistic is taken will be eliminated, and the value None will no longer be accepted. Set `keepdims` to True or False to avoid this warning.\n",
      "  mode, _ = stats.mode(_y[neigh_ind, k], axis=1)\n"
     ]
    },
    {
     "name": "stdout",
     "output_type": "stream",
     "text": [
      "Testing score: 0.7492075251709438\n"
     ]
    },
    {
     "name": "stderr",
     "output_type": "stream",
     "text": [
      "C:\\Users\\amt\\anaconda3\\lib\\site-packages\\sklearn\\neighbors\\_classification.py:228: FutureWarning: Unlike other reduction functions (e.g. `skew`, `kurtosis`), the default behavior of `mode` typically preserves the axis it acts along. In SciPy 1.11.0, this behavior will change: the default value of `keepdims` will become False, the `axis` over which the statistic is taken will be eliminated, and the value None will no longer be accepted. Set `keepdims` to True or False to avoid this warning.\n",
      "  mode, _ = stats.mode(_y[neigh_ind, k], axis=1)\n"
     ]
    },
    {
     "name": "stdout",
     "output_type": "stream",
     "text": [
      "Training score: 0.7541315538806677\n"
     ]
    }
   ],
   "source": [
    "\n",
    "# Create a KNN classifier object with 100 neighbors\n",
    "knn = KNeighborsClassifier(n_neighbors=100)\n",
    "\n",
    "# Train the classifier using the training data\n",
    "knn.fit(xtrain, ytrain)\n",
    "\n",
    "# Calculate the accuracy score on the test data\n",
    "testing_score= knn.score(xtest, ytest)  # testing\n",
    "print(\"Testing score:\", testing_score)\n",
    "\n",
    "# Calculate the accuracy score on the training data\n",
    "training_score= knn.score(xtrain, ytrain)  # training\n",
    "print(\"Training score:\", training_score)"
   ]
  },
  {
   "cell_type": "markdown",
   "id": "5fa1697c",
   "metadata": {},
   "source": [
    "# XGBClassifier"
   ]
  },
  {
   "cell_type": "code",
   "execution_count": 81,
   "id": "9c15eea6",
   "metadata": {},
   "outputs": [
    {
     "name": "stdout",
     "output_type": "stream",
     "text": [
      "Training accuracy: 0.7647473701195613\n",
      "Testing accuracy: 0.757927784592589\n"
     ]
    }
   ],
   "source": [
    "# Create an instance of XGBClassifier\n",
    "xgb = XGBClassifier()\n",
    "\n",
    "# Fit the model on the training data\n",
    "xgb.fit(xtrain, ytrain)\n",
    "\n",
    "# Calculate the accuracy score on the training data\n",
    "train_score = xgb.score(xtrain, ytrain)\n",
    "print(\"Training accuracy:\", train_score)\n",
    "\n",
    "# Calculate the accuracy score on the test data\n",
    "test_score = xgb.score(xtest, ytest)\n",
    "print(\"Testing accuracy:\", test_score)"
   ]
  },
  {
   "cell_type": "markdown",
   "id": "dcab4f0a",
   "metadata": {},
   "source": [
    "# RandomForestClassifier"
   ]
  },
  {
   "cell_type": "code",
   "execution_count": 82,
   "id": "556e98d8",
   "metadata": {},
   "outputs": [
    {
     "name": "stderr",
     "output_type": "stream",
     "text": [
      "C:\\Users\\amt\\AppData\\Local\\Temp\\ipykernel_4756\\4038136945.py:5: DataConversionWarning: A column-vector y was passed when a 1d array was expected. Please change the shape of y to (n_samples,), for example using ravel().\n",
      "  rf.fit(xtrain, ytrain)\n"
     ]
    },
    {
     "name": "stdout",
     "output_type": "stream",
     "text": [
      "Training accuracy: 0.9979335724212597\n",
      "Testing accuracy: 0.9611110436377327\n"
     ]
    }
   ],
   "source": [
    "# Focal cell:\n",
    "rf = RandomForestClassifier()\n",
    "\n",
    "# Train the random forest model\n",
    "rf.fit(xtrain, ytrain)\n",
    "\n",
    "# Calculate the accuracy score on the training data\n",
    "train_score = rf.score(xtrain, ytrain)\n",
    "print(\"Training accuracy:\", train_score)\n",
    "\n",
    "# Calculate the accuracy score on the testing data\n",
    "test_score = rf.score(xtest, ytest)\n",
    "print(\"Testing accuracy:\", test_score)"
   ]
  },
  {
   "cell_type": "markdown",
   "id": "e235db7c",
   "metadata": {},
   "source": [
    "# ExtraTreesClassifier"
   ]
  },
  {
   "cell_type": "code",
   "execution_count": 83,
   "id": "1b064e16",
   "metadata": {},
   "outputs": [
    {
     "name": "stderr",
     "output_type": "stream",
     "text": [
      "C:\\Users\\amt\\AppData\\Local\\Temp\\ipykernel_4756\\737729602.py:7: DataConversionWarning: A column-vector y was passed when a 1d array was expected. Please change the shape of y to (n_samples,), for example using ravel().\n",
      "  extr.fit(xtrain, ytrain)\n"
     ]
    },
    {
     "name": "stdout",
     "output_type": "stream",
     "text": [
      "Testing Score: 0.975703511179664\n",
      "Training Score: 0.9979361749748854\n"
     ]
    }
   ],
   "source": [
    "\n",
    "# Create an instance of the ExtraTreesClassifier\n",
    "extr = ExtraTreesClassifier()\n",
    "\n",
    "# Fit the model to the training data\n",
    "extr.fit(xtrain, ytrain)\n",
    "\n",
    "# Evaluate the model on the testing data\n",
    "test_score = extr.score(xtest, ytest)\n",
    "print(\"Testing Score:\", test_score)\n",
    "\n",
    "# Evaluate the model on the training data\n",
    "train_score = extr.score(xtrain, ytrain)\n",
    "print(\"Training Score:\", train_score)"
   ]
  },
  {
   "cell_type": "markdown",
   "id": "8bbd6dc2",
   "metadata": {},
   "source": [
    "# DecisionTreeClassifier"
   ]
  },
  {
   "cell_type": "code",
   "execution_count": 84,
   "id": "a06ec99a",
   "metadata": {},
   "outputs": [
    {
     "name": "stdout",
     "output_type": "stream",
     "text": [
      "Testing Score: 0.9478484763836428\n",
      "Training Score: 0.9979361749748854\n"
     ]
    }
   ],
   "source": [
    "# Create an instance of the DecisionTreeClassifier\n",
    "dt = DecisionTreeClassifier() \n",
    "\n",
    "# Fit the model to the training data\n",
    "dt.fit(xtrain,ytrain)\n",
    "\n",
    "# Evaluate the model on the testing data\n",
    "test_score= dt.score(xtest,ytest) # after sampling\n",
    "print(\"Testing Score:\", test_score)\n",
    "\n",
    "# Evaluate the model on the training data\n",
    "train_score= dt.score(xtrain,ytrain) # after sampling\n",
    "print(\"Training Score:\", train_score)"
   ]
  },
  {
   "cell_type": "markdown",
   "id": "7490a911",
   "metadata": {},
   "source": [
    "# LogisticRegression"
   ]
  },
  {
   "cell_type": "code",
   "execution_count": 85,
   "id": "897931a8",
   "metadata": {},
   "outputs": [
    {
     "name": "stderr",
     "output_type": "stream",
     "text": [
      "C:\\Users\\amt\\anaconda3\\lib\\site-packages\\sklearn\\utils\\validation.py:993: DataConversionWarning: A column-vector y was passed when a 1d array was expected. Please change the shape of y to (n_samples, ), for example using ravel().\n",
      "  y = column_or_1d(y, warn=True)\n"
     ]
    },
    {
     "name": "stdout",
     "output_type": "stream",
     "text": [
      "Testing Score: 0.6819412900640053\n",
      "Training Score: 0.68196013928867\n"
     ]
    }
   ],
   "source": [
    "\n",
    "# Create a Logistic Regression model\n",
    "lg = LogisticRegression()\n",
    "\n",
    "# Train the model on the training data\n",
    "lg.fit(xtrain, ytrain)\n",
    "\n",
    "# Calculate the accuracy score on the test data\n",
    "test_score = lg.score(xtest, ytest)\n",
    "print(\"Testing Score:\", test_score)\n",
    "# Calculate the accuracy score on the training data\n",
    "train_score = lg.score(xtrain, ytrain)\n",
    "print(\"Training Score:\", train_score)\n"
   ]
  },
  {
   "cell_type": "markdown",
   "id": "872f97d9",
   "metadata": {},
   "source": [
    "# Support Vector Machine (SVM)"
   ]
  },
  {
   "cell_type": "code",
   "execution_count": 86,
   "id": "472c3420",
   "metadata": {},
   "outputs": [
    {
     "data": {
      "text/plain": [
       "'#take huge time thats why its stoped \\n\\nfrom sklearn import svm\\nfrom sklearn.svm import SVC\\n# Create an instance of SVM classifier with linear kernel\\nsv = SVC(kernel=\\'linear\\')\\n\\n# Train the classifier using the training data\\nsv.fit(xtrain, ytrain)\\n\\n# Calculate the accuracy score on the training data\\ntrain_score= sv.score(xtrain, ytrain)\\nprint(\"Training Score:\", train_score)\\n\\n# Calculate the accuracy score on the testing data\\ntest_score= sv.score(xtest, ytest)\\nprint(\"Testing Score:\", test_score)'"
      ]
     },
     "execution_count": 86,
     "metadata": {},
     "output_type": "execute_result"
    }
   ],
   "source": [
    "'''#take huge time thats why its stoped \n",
    "\n",
    "from sklearn import svm\n",
    "from sklearn.svm import SVC\n",
    "# Create an instance of SVM classifier with linear kernel\n",
    "sv = SVC(kernel='linear')\n",
    "\n",
    "# Train the classifier using the training data\n",
    "sv.fit(xtrain, ytrain)\n",
    "\n",
    "# Calculate the accuracy score on the training data\n",
    "train_score= sv.score(xtrain, ytrain)\n",
    "print(\"Training Score:\", train_score)\n",
    "\n",
    "# Calculate the accuracy score on the testing data\n",
    "test_score= sv.score(xtest, ytest)\n",
    "print(\"Testing Score:\", test_score)'''"
   ]
  },
  {
   "cell_type": "markdown",
   "id": "f968bb76",
   "metadata": {},
   "source": [
    "# classification model"
   ]
  },
  {
   "cell_type": "code",
   "execution_count": 87,
   "id": "3b3fc26d",
   "metadata": {},
   "outputs": [
    {
     "name": "stdout",
     "output_type": "stream",
     "text": [
      "Decision Tree Accuracy: 0.9484\n"
     ]
    },
    {
     "name": "stderr",
     "output_type": "stream",
     "text": [
      "C:\\Users\\amt\\AppData\\Local\\Temp\\ipykernel_4756\\232103935.py:30: DataConversionWarning: A column-vector y was passed when a 1d array was expected. Please change the shape of y to (n_samples,), for example using ravel().\n",
      "  model.fit(xtrain, ytrain)\n"
     ]
    },
    {
     "name": "stdout",
     "output_type": "stream",
     "text": [
      "Random Forest Accuracy: 0.9642\n"
     ]
    },
    {
     "name": "stderr",
     "output_type": "stream",
     "text": [
      "C:\\Users\\amt\\anaconda3\\lib\\site-packages\\sklearn\\utils\\validation.py:993: DataConversionWarning: A column-vector y was passed when a 1d array was expected. Please change the shape of y to (n_samples, ), for example using ravel().\n",
      "  y = column_or_1d(y, warn=True)\n"
     ]
    },
    {
     "name": "stdout",
     "output_type": "stream",
     "text": [
      "Logistic Regression Accuracy: 0.7465\n"
     ]
    },
    {
     "name": "stderr",
     "output_type": "stream",
     "text": [
      "C:\\Users\\amt\\AppData\\Local\\Temp\\ipykernel_4756\\232103935.py:30: DataConversionWarning: A column-vector y was passed when a 1d array was expected. Please change the shape of y to (n_samples,), for example using ravel().\n",
      "  model.fit(xtrain, ytrain)\n"
     ]
    },
    {
     "name": "stdout",
     "output_type": "stream",
     "text": [
      "ExtraTreesClassifier Accuracy: 0.9720\n",
      "XGBClassifier Accuracy: 0.7792\n"
     ]
    }
   ],
   "source": [
    "# Split data into training and testing sets\n",
    "xtrain, xtest, ytrain, ytest = train_test_split(x_new, y_new, test_size=0.3, random_state=42)\n",
    "\n",
    "# Standardize features\n",
    "scaler = StandardScaler()\n",
    "xtrain = scaler.fit_transform(xtrain)\n",
    "xtest = scaler.transform(xtest)\n",
    "\n",
    "# Initialize and train classification models\n",
    "models = {\n",
    "    'Decision Tree': DecisionTreeClassifier(),\n",
    "    'Random Forest': RandomForestClassifier(),\n",
    "    'Logistic Regression': LogisticRegression(),\n",
    "    'ExtraTreesClassifier': ExtraTreesClassifier(),\n",
    "    'XGBClassifier': XGBClassifier(),\n",
    "    #'Support Vector Machine': SVC(),\n",
    "}\n",
    "\n",
    "for model_name, model in models.items():\n",
    "    # Train the model\n",
    "    model.fit(xtrain, ytrain)\n",
    "\n",
    "    # Make predictions\n",
    "    y_pred = model.predict(xtest)\n",
    "\n",
    "    # Evaluate accuracy\n",
    "    accuracy = accuracy_score(ytest, y_pred)\n",
    "    print(f'{model_name} Accuracy: {accuracy:.4f}')\n"
   ]
  },
  {
   "cell_type": "markdown",
   "id": "5a44a975",
   "metadata": {},
   "source": [
    "# Ensemble "
   ]
  },
  {
   "cell_type": "code",
   "execution_count": 88,
   "id": "52fcf192",
   "metadata": {},
   "outputs": [
    {
     "name": "stderr",
     "output_type": "stream",
     "text": [
      "C:\\Users\\amt\\AppData\\Local\\Temp\\ipykernel_4756\\2739946307.py:12: DataConversionWarning: A column-vector y was passed when a 1d array was expected. Please change the shape of y to (n_samples,), for example using ravel().\n",
      "  bagging_model.fit(xtrain, ytrain)\n"
     ]
    },
    {
     "name": "stdout",
     "output_type": "stream",
     "text": [
      "Bagging Accuracy: 0.9640016031674703\n",
      "0:\tlearn: 0.6660470\ttotal: 332ms\tremaining: 32.8s\n",
      "1:\tlearn: 0.6438263\ttotal: 407ms\tremaining: 19.9s\n",
      "2:\tlearn: 0.6241864\ttotal: 454ms\tremaining: 14.7s\n",
      "3:\tlearn: 0.6083225\ttotal: 505ms\tremaining: 12.1s\n",
      "4:\tlearn: 0.5948653\ttotal: 552ms\tremaining: 10.5s\n",
      "5:\tlearn: 0.5832223\ttotal: 608ms\tremaining: 9.52s\n",
      "6:\tlearn: 0.5731161\ttotal: 664ms\tremaining: 8.82s\n",
      "7:\tlearn: 0.5641732\ttotal: 712ms\tremaining: 8.19s\n",
      "8:\tlearn: 0.5566679\ttotal: 767ms\tremaining: 7.75s\n",
      "9:\tlearn: 0.5495410\ttotal: 821ms\tremaining: 7.38s\n",
      "10:\tlearn: 0.5431471\ttotal: 933ms\tremaining: 7.54s\n",
      "11:\tlearn: 0.5380040\ttotal: 1s\tremaining: 7.33s\n",
      "12:\tlearn: 0.5331839\ttotal: 1.05s\tremaining: 7.04s\n",
      "13:\tlearn: 0.5291489\ttotal: 1.1s\tremaining: 6.78s\n",
      "14:\tlearn: 0.5255188\ttotal: 1.15s\tremaining: 6.54s\n",
      "15:\tlearn: 0.5221475\ttotal: 1.2s\tremaining: 6.32s\n",
      "16:\tlearn: 0.5194892\ttotal: 1.25s\tremaining: 6.13s\n",
      "17:\tlearn: 0.5166701\ttotal: 1.31s\tremaining: 5.98s\n",
      "18:\tlearn: 0.5145605\ttotal: 1.36s\tremaining: 5.82s\n",
      "19:\tlearn: 0.5124913\ttotal: 1.42s\tremaining: 5.68s\n",
      "20:\tlearn: 0.5107407\ttotal: 1.47s\tremaining: 5.54s\n",
      "21:\tlearn: 0.5092754\ttotal: 1.52s\tremaining: 5.41s\n",
      "22:\tlearn: 0.5079101\ttotal: 1.58s\tremaining: 5.28s\n",
      "23:\tlearn: 0.5068286\ttotal: 1.63s\tremaining: 5.15s\n",
      "24:\tlearn: 0.5055432\ttotal: 1.68s\tremaining: 5.04s\n",
      "25:\tlearn: 0.5044225\ttotal: 1.73s\tremaining: 4.93s\n",
      "26:\tlearn: 0.5034170\ttotal: 1.79s\tremaining: 4.83s\n",
      "27:\tlearn: 0.5027495\ttotal: 1.83s\tremaining: 4.72s\n",
      "28:\tlearn: 0.5019574\ttotal: 1.89s\tremaining: 4.63s\n",
      "29:\tlearn: 0.5012513\ttotal: 1.95s\tremaining: 4.55s\n",
      "30:\tlearn: 0.5006235\ttotal: 2.01s\tremaining: 4.47s\n",
      "31:\tlearn: 0.5000783\ttotal: 2.06s\tremaining: 4.38s\n",
      "32:\tlearn: 0.4995511\ttotal: 2.12s\tremaining: 4.31s\n",
      "33:\tlearn: 0.4989838\ttotal: 2.17s\tremaining: 4.22s\n",
      "34:\tlearn: 0.4985030\ttotal: 2.23s\tremaining: 4.15s\n",
      "35:\tlearn: 0.4980118\ttotal: 2.29s\tremaining: 4.07s\n",
      "36:\tlearn: 0.4974543\ttotal: 2.35s\tremaining: 4s\n",
      "37:\tlearn: 0.4970719\ttotal: 2.4s\tremaining: 3.92s\n",
      "38:\tlearn: 0.4966762\ttotal: 2.45s\tremaining: 3.83s\n",
      "39:\tlearn: 0.4962529\ttotal: 2.5s\tremaining: 3.75s\n",
      "40:\tlearn: 0.4959937\ttotal: 2.55s\tremaining: 3.66s\n",
      "41:\tlearn: 0.4956657\ttotal: 2.63s\tremaining: 3.63s\n",
      "42:\tlearn: 0.4953428\ttotal: 2.68s\tremaining: 3.55s\n",
      "43:\tlearn: 0.4951067\ttotal: 2.73s\tremaining: 3.47s\n",
      "44:\tlearn: 0.4947581\ttotal: 2.77s\tremaining: 3.39s\n",
      "45:\tlearn: 0.4945292\ttotal: 3.05s\tremaining: 3.58s\n",
      "46:\tlearn: 0.4942861\ttotal: 3.15s\tremaining: 3.55s\n",
      "47:\tlearn: 0.4940794\ttotal: 3.2s\tremaining: 3.46s\n",
      "48:\tlearn: 0.4938339\ttotal: 3.25s\tremaining: 3.38s\n",
      "49:\tlearn: 0.4936644\ttotal: 3.3s\tremaining: 3.3s\n",
      "50:\tlearn: 0.4934394\ttotal: 3.37s\tremaining: 3.24s\n",
      "51:\tlearn: 0.4932831\ttotal: 3.47s\tremaining: 3.2s\n",
      "52:\tlearn: 0.4931440\ttotal: 3.55s\tremaining: 3.15s\n",
      "53:\tlearn: 0.4930077\ttotal: 3.62s\tremaining: 3.08s\n",
      "54:\tlearn: 0.4927789\ttotal: 3.69s\tremaining: 3.02s\n",
      "55:\tlearn: 0.4926430\ttotal: 3.75s\tremaining: 2.95s\n",
      "56:\tlearn: 0.4925100\ttotal: 3.81s\tremaining: 2.87s\n",
      "57:\tlearn: 0.4923267\ttotal: 3.93s\tremaining: 2.85s\n",
      "58:\tlearn: 0.4921612\ttotal: 4.02s\tremaining: 2.79s\n",
      "59:\tlearn: 0.4919553\ttotal: 4.08s\tremaining: 2.72s\n",
      "60:\tlearn: 0.4918298\ttotal: 4.15s\tremaining: 2.65s\n",
      "61:\tlearn: 0.4917081\ttotal: 4.21s\tremaining: 2.58s\n",
      "62:\tlearn: 0.4915431\ttotal: 4.26s\tremaining: 2.5s\n",
      "63:\tlearn: 0.4914303\ttotal: 4.31s\tremaining: 2.42s\n",
      "64:\tlearn: 0.4913035\ttotal: 4.38s\tremaining: 2.36s\n",
      "65:\tlearn: 0.4911583\ttotal: 4.44s\tremaining: 2.29s\n",
      "66:\tlearn: 0.4910515\ttotal: 4.5s\tremaining: 2.22s\n",
      "67:\tlearn: 0.4909374\ttotal: 4.57s\tremaining: 2.15s\n",
      "68:\tlearn: 0.4908340\ttotal: 4.63s\tremaining: 2.08s\n",
      "69:\tlearn: 0.4907038\ttotal: 4.71s\tremaining: 2.02s\n",
      "70:\tlearn: 0.4905790\ttotal: 4.78s\tremaining: 1.95s\n",
      "71:\tlearn: 0.4904468\ttotal: 4.85s\tremaining: 1.89s\n",
      "72:\tlearn: 0.4903264\ttotal: 4.92s\tremaining: 1.82s\n",
      "73:\tlearn: 0.4902126\ttotal: 4.99s\tremaining: 1.75s\n",
      "74:\tlearn: 0.4900745\ttotal: 5.05s\tremaining: 1.68s\n",
      "75:\tlearn: 0.4899872\ttotal: 5.14s\tremaining: 1.62s\n",
      "76:\tlearn: 0.4898828\ttotal: 5.22s\tremaining: 1.56s\n",
      "77:\tlearn: 0.4898030\ttotal: 5.32s\tremaining: 1.5s\n",
      "78:\tlearn: 0.4897476\ttotal: 5.45s\tremaining: 1.45s\n",
      "79:\tlearn: 0.4896520\ttotal: 5.51s\tremaining: 1.38s\n",
      "80:\tlearn: 0.4895498\ttotal: 5.59s\tremaining: 1.31s\n",
      "81:\tlearn: 0.4894189\ttotal: 5.65s\tremaining: 1.24s\n",
      "82:\tlearn: 0.4893588\ttotal: 5.74s\tremaining: 1.18s\n",
      "83:\tlearn: 0.4893097\ttotal: 5.85s\tremaining: 1.11s\n",
      "84:\tlearn: 0.4891889\ttotal: 5.95s\tremaining: 1.05s\n",
      "85:\tlearn: 0.4891216\ttotal: 6.06s\tremaining: 987ms\n",
      "86:\tlearn: 0.4890334\ttotal: 6.18s\tremaining: 923ms\n",
      "87:\tlearn: 0.4889917\ttotal: 6.27s\tremaining: 855ms\n",
      "88:\tlearn: 0.4889026\ttotal: 6.34s\tremaining: 783ms\n",
      "89:\tlearn: 0.4888492\ttotal: 6.39s\tremaining: 710ms\n",
      "90:\tlearn: 0.4887867\ttotal: 6.45s\tremaining: 638ms\n",
      "91:\tlearn: 0.4886648\ttotal: 6.5s\tremaining: 566ms\n",
      "92:\tlearn: 0.4885996\ttotal: 6.55s\tremaining: 493ms\n",
      "93:\tlearn: 0.4885202\ttotal: 6.64s\tremaining: 424ms\n",
      "94:\tlearn: 0.4884576\ttotal: 6.75s\tremaining: 355ms\n",
      "95:\tlearn: 0.4883951\ttotal: 6.84s\tremaining: 285ms\n",
      "96:\tlearn: 0.4883159\ttotal: 6.97s\tremaining: 216ms\n",
      "97:\tlearn: 0.4882657\ttotal: 7.07s\tremaining: 144ms\n",
      "98:\tlearn: 0.4881815\ttotal: 7.19s\tremaining: 72.6ms\n",
      "99:\tlearn: 0.4880987\ttotal: 7.31s\tremaining: 0us\n",
      "Boosting Accuracy: 0.7648869888385538\n"
     ]
    },
    {
     "name": "stderr",
     "output_type": "stream",
     "text": [
      "C:\\Users\\amt\\anaconda3\\lib\\site-packages\\sklearn\\preprocessing\\_label.py:98: DataConversionWarning: A column-vector y was passed when a 1d array was expected. Please change the shape of y to (n_samples, ), for example using ravel().\n",
      "  y = column_or_1d(y, warn=True)\n",
      "C:\\Users\\amt\\anaconda3\\lib\\site-packages\\sklearn\\preprocessing\\_label.py:133: DataConversionWarning: A column-vector y was passed when a 1d array was expected. Please change the shape of y to (n_samples, ), for example using ravel().\n",
      "  y = column_or_1d(y, warn=True)\n"
     ]
    },
    {
     "name": "stdout",
     "output_type": "stream",
     "text": [
      "Stacking Accuracy: 0.9478120407593185\n"
     ]
    }
   ],
   "source": [
    "# Bagging\n",
    "bagging_model = RandomForestClassifier(n_estimators=10, random_state=42)\n",
    "bagging_model.fit(xtrain, ytrain)\n",
    "bagging_pred = bagging_model.predict(xtest)\n",
    "print(\"Bagging Accuracy:\", accuracy_score(ytest, bagging_pred))\n",
    "\n",
    "# Boosting\n",
    "boosting_model = CatBoostClassifier(iterations=100, learning_rate=0.1, depth=6, random_state=42)\n",
    "boosting_model.fit(xtrain, ytrain)\n",
    "boosting_pred = boosting_model.predict(xtest)\n",
    "print(\"Boosting Accuracy:\", accuracy_score(ytest, boosting_pred))\n",
    "\n",
    "# Stacking\n",
    "base_models = [\n",
    "    ('decision_tree', DecisionTreeClassifier()),\n",
    "    ('logistic_regression', LogisticRegression())\n",
    "]\n",
    "stacking_model = StackingClassifier(estimators=base_models, final_estimator=LogisticRegression())\n",
    "stacking_model.fit(xtrain, ytrain)\n",
    "stacking_pred = stacking_model.predict(xtest)\n",
    "print(\"Stacking Accuracy:\", accuracy_score(ytest, stacking_pred))\n"
   ]
  },
  {
   "cell_type": "markdown",
   "id": "5c3d775d",
   "metadata": {},
   "source": [
    "# Modeling"
   ]
  },
  {
   "cell_type": "code",
   "execution_count": 89,
   "id": "aa0d116a",
   "metadata": {},
   "outputs": [],
   "source": [
    "def evaluate_model(model, xtest, ytest):\n",
    "\n",
    "    # Predict Test Data \n",
    "    ypred = model.predict(xtest)\n",
    "\n",
    "    # Calculate accuracy, precision, recall, f1-score, and kappa score\n",
    "    acc = metrics.accuracy_score(ytest, ypred)\n",
    "    prec = metrics.precision_score(ytest, ypred)\n",
    "    rec = metrics.recall_score(ytest, ypred)\n",
    "    f1 = metrics.f1_score(ytest, ypred)\n",
    "    kappa = metrics.cohen_kappa_score(ytest, ypred)\n",
    "\n",
    "    # Calculate area under curve (AUC)\n",
    "    ypred_proba = model.predict_proba(xtest)[::,1]\n",
    "    fpr, tpr, _ = metrics.roc_curve(ytest, ypred_proba)\n",
    "    auc = metrics.roc_auc_score(ytest, ypred_proba)\n",
    "\n",
    "    # Display confussion matrix\n",
    "    cm = metrics.confusion_matrix(ytest, ypred)\n",
    "\n",
    "    return {'acc': acc, 'prec': prec, 'rec': rec, 'f1': f1, 'kappa': kappa, \n",
    "            'fpr': fpr, 'tpr': tpr, 'auc': auc, 'cm': cm}"
   ]
  },
  {
   "cell_type": "code",
   "execution_count": 90,
   "id": "d004175f",
   "metadata": {},
   "outputs": [
    {
     "data": {
      "text/plain": [
       "array([[-0.76049382, -0.99107662, -0.249487  , ..., -0.43410063,\n",
       "        -0.29095031, -0.39599276],\n",
       "       [ 0.64561895, -0.99107662, -0.249487  , ..., -0.43410063,\n",
       "        -0.29095031, -0.39599276],\n",
       "       [-0.86879755, -0.99107662, -0.249487  , ..., -0.43410063,\n",
       "        -0.29095031, -0.39599276],\n",
       "       ...,\n",
       "       [ 0.63460502,  1.00900373, -0.249487  , ..., -0.43410063,\n",
       "        -0.29095031, -0.39599276],\n",
       "       [-0.05193047, -0.99107662, -0.249487  , ...,  2.30361331,\n",
       "        -0.29095031, -0.39599276],\n",
       "       [-1.27814892, -0.99107662, -0.249487  , ..., -0.43410063,\n",
       "        -0.29095031, -0.39599276]])"
      ]
     },
     "execution_count": 90,
     "metadata": {},
     "output_type": "execute_result"
    }
   ],
   "source": [
    "xtrain"
   ]
  },
  {
   "cell_type": "code",
   "execution_count": 91,
   "id": "2679d8cd",
   "metadata": {},
   "outputs": [
    {
     "name": "stderr",
     "output_type": "stream",
     "text": [
      "C:\\Users\\amt\\anaconda3\\lib\\site-packages\\sklearn\\neighbors\\_classification.py:198: DataConversionWarning: A column-vector y was passed when a 1d array was expected. Please change the shape of y to (n_samples,), for example using ravel().\n",
      "  return self._fit(X, y)\n",
      "C:\\Users\\amt\\anaconda3\\lib\\site-packages\\sklearn\\neighbors\\_classification.py:228: FutureWarning: Unlike other reduction functions (e.g. `skew`, `kurtosis`), the default behavior of `mode` typically preserves the axis it acts along. In SciPy 1.11.0, this behavior will change: the default value of `keepdims` will become False, the `axis` over which the statistic is taken will be eliminated, and the value None will no longer be accepted. Set `keepdims` to True or False to avoid this warning.\n",
      "  mode, _ = stats.mode(_y[neigh_ind, k], axis=1)\n"
     ]
    },
    {
     "name": "stdout",
     "output_type": "stream",
     "text": [
      "Accuracy: 0.8784507572537256\n",
      "Precision: 0.8106088460047897\n",
      "Recall: 0.9884043571506465\n",
      "F1 Score: 0.8907208840165098\n",
      "Cohens Kappa Score: 0.7567741707981759\n",
      "Area Under Curve: 0.9410336713329869\n",
      "Confusion Matrix:\n",
      " [[63084 19059]\n",
      " [  957 81574]]\n"
     ]
    }
   ],
   "source": [
    "# Building a model using KNeighborsClassifier \n",
    "knn = KNeighborsClassifier(n_neighbors = 5)\n",
    "\n",
    "knn.fit(xtrain, ytrain)\n",
    "\n",
    "\n",
    "# Evaluate Model\n",
    "knn_eval = evaluate_model(knn, xtest, ytest)\n",
    "\n",
    "# Print result\n",
    "print('Accuracy:', knn_eval['acc'])\n",
    "print('Precision:', knn_eval['prec'])\n",
    "print('Recall:', knn_eval['rec'])\n",
    "print('F1 Score:', knn_eval['f1'])\n",
    "print('Cohens Kappa Score:', knn_eval['kappa'])\n",
    "print('Area Under Curve:', knn_eval['auc'])\n",
    "print('Confusion Matrix:\\n', knn_eval['cm'])"
   ]
  },
  {
   "cell_type": "code",
   "execution_count": 92,
   "id": "9ce6d2e0",
   "metadata": {},
   "outputs": [
    {
     "name": "stderr",
     "output_type": "stream",
     "text": [
      "C:\\Users\\amt\\AppData\\Local\\Temp\\ipykernel_4756\\783377244.py:4: DataConversionWarning: A column-vector y was passed when a 1d array was expected. Please change the shape of y to (n_samples,), for example using ravel().\n",
      "  rf1.fit(xtrain, ytrain)\n"
     ]
    },
    {
     "name": "stdout",
     "output_type": "stream",
     "text": [
      "Accuracy: 0.9648274773188239\n",
      "Precision: 0.9350727398487374\n",
      "Recall: 0.999200300493148\n",
      "F1 Score: 0.966073499607549\n",
      "Cohens Kappa Score: 0.9296431685235117\n",
      "Area Under Curve: 0.9965619209276957\n",
      "Confusion Matrix:\n",
      " [[76417  5726]\n",
      " [   66 82465]]\n"
     ]
    }
   ],
   "source": [
    "# Building a model using KNeighborsClassifier \n",
    "rf1 = RandomForestClassifier()\n",
    "\n",
    "rf1.fit(xtrain, ytrain)\n",
    "\n",
    "# Evaluate Model\n",
    "rf1_eval = evaluate_model(rf1, xtest, ytest)\n",
    "\n",
    "# Print result\n",
    "print('Accuracy:', rf1_eval['acc'])\n",
    "print('Precision:', rf1_eval['prec'])\n",
    "print('Recall:', rf1_eval['rec'])\n",
    "print('F1 Score:', rf1_eval['f1'])\n",
    "print('Cohens Kappa Score:', rf1_eval['kappa'])\n",
    "print('Area Under Curve:', rf1_eval['auc'])\n",
    "print('Confusion Matrix:\\n', rf1_eval['cm'])"
   ]
  },
  {
   "cell_type": "code",
   "execution_count": 93,
   "id": "1d3bf2ce",
   "metadata": {},
   "outputs": [
    {
     "name": "stderr",
     "output_type": "stream",
     "text": [
      "C:\\Users\\amt\\AppData\\Local\\Temp\\ipykernel_4756\\696800089.py:4: DataConversionWarning: A column-vector y was passed when a 1d array was expected. Please change the shape of y to (n_samples,), for example using ravel().\n",
      "  extra.fit(xtrain, ytrain)\n"
     ]
    },
    {
     "name": "stdout",
     "output_type": "stream",
     "text": [
      "Accuracy: 0.9717866815647886\n",
      "Precision: 0.9474657872663135\n",
      "Recall: 0.9991033672195903\n",
      "F1 Score: 0.9725996697334276\n",
      "Cohens Kappa Score: 0.9435657858704983\n",
      "Area Under Curve: 0.9971024973516417\n",
      "Confusion Matrix:\n",
      " [[77571  4572]\n",
      " [   74 82457]]\n"
     ]
    }
   ],
   "source": [
    "# Building a model using KNeighborsClassifier \n",
    "extra = ExtraTreesClassifier()\n",
    "\n",
    "extra.fit(xtrain, ytrain)\n",
    "\n",
    "\n",
    "# Evaluate Model\n",
    "extra_eval = evaluate_model(extra, xtest, ytest)\n",
    "\n",
    "# Print result\n",
    "print('Accuracy:', extra_eval['acc'])\n",
    "print('Precision:', extra_eval['prec'])\n",
    "print('Recall:', extra_eval['rec'])\n",
    "print('F1 Score:', extra_eval['f1'])\n",
    "print('Cohens Kappa Score:', extra_eval['kappa'])\n",
    "print('Area Under Curve:', extra_eval['auc'])\n",
    "print('Confusion Matrix:\\n', extra_eval['cm'])"
   ]
  },
  {
   "cell_type": "code",
   "execution_count": 94,
   "id": "2df8256f",
   "metadata": {},
   "outputs": [
    {
     "name": "stdout",
     "output_type": "stream",
     "text": [
      "Accuracy: 0.7792001165939978\n",
      "Precision: 0.757228653882581\n",
      "Recall: 0.8234360422144407\n",
      "F1 Score: 0.7889457736913593\n",
      "Cohens Kappa Score: 0.5583065739122526\n",
      "Area Under Curve: 0.8597192884151023\n",
      "Confusion Matrix:\n",
      " [[60355 21788]\n",
      " [14572 67959]]\n"
     ]
    }
   ],
   "source": [
    "# Building a model using KNeighborsClassifier \n",
    "xgb = XGBClassifier()\n",
    "\n",
    "xgb.fit(xtrain, ytrain)\n",
    "\n",
    "\n",
    "# Evaluate Model\n",
    "xgb_eval = evaluate_model(xgb, xtest, ytest)\n",
    "\n",
    "# Print result\n",
    "print('Accuracy:', xgb_eval['acc'])\n",
    "print('Precision:', xgb_eval['prec'])\n",
    "print('Recall:', xgb_eval['rec'])\n",
    "print('F1 Score:', xgb_eval['f1'])\n",
    "print('Cohens Kappa Score:', xgb_eval['kappa'])\n",
    "print('Area Under Curve:', xgb_eval['auc'])\n",
    "print('Confusion Matrix:\\n', xgb_eval['cm'])"
   ]
  },
  {
   "cell_type": "code",
   "execution_count": 95,
   "id": "ef76a6b9",
   "metadata": {},
   "outputs": [
    {
     "name": "stdout",
     "output_type": "stream",
     "text": [
      "Accuracy: 0.9648274773188239\n",
      "Precision: 0.9350727398487374\n",
      "Recall: 0.999200300493148\n",
      "F1 Score: 0.966073499607549\n",
      "Cohens Kappa Score: 0.9296431685235117\n",
      "Area Under Curve: 0.9965619209276957\n",
      "Confusion Matrix:\n",
      " [[76417  5726]\n",
      " [   66 82465]]\n"
     ]
    }
   ],
   "source": [
    "# Building a model using KNeighborsClassifier \n",
    "dt1= DecisionTreeClassifier(random_state=0)\n",
    "dt1.fit(xtrain, ytrain)\n",
    "\n",
    "\n",
    "# Evaluate Model\n",
    "dt1_eval = evaluate_model(rf1, xtest, ytest)\n",
    "\n",
    "# Print result\n",
    "print('Accuracy:', dt1_eval['acc'])\n",
    "print('Precision:', dt1_eval['prec'])\n",
    "print('Recall:', dt1_eval['rec'])\n",
    "print('F1 Score:', dt1_eval['f1'])\n",
    "print('Cohens Kappa Score:', dt1_eval['kappa'])\n",
    "print('Area Under Curve:', dt1_eval['auc'])\n",
    "print('Confusion Matrix:\\n', dt1_eval['cm'])"
   ]
  },
  {
   "cell_type": "code",
   "execution_count": 96,
   "id": "37386365",
   "metadata": {},
   "outputs": [
    {
     "data": {
      "text/plain": [
       "\"from sklearn.svm import SVC\\n# Building a model using KNeighborsClassifier \\nsv = SVC(kernel='linear')\\n\\nsv.fit(xtrain, ytrain)\\n\\n\\n# Evaluate Model\\nsv_eval = evaluate_model(sv, xtest, ytest)\\n\\n# Print result\\nprint('Accuracy:', sv_eval['acc'])\\nprint('Precision:', sv_eval['prec'])\\nprint('Recall:', sv_eval['rec'])\\nprint('F1 Score:', sv_eval['f1'])\\nprint('Cohens Kappa Score:', sv_eval['kappa'])\\nprint('Area Under Curve:', sv_eval['auc'])\\nprint('Confusion Matrix:\\n', sv_eval['cm'])\""
      ]
     },
     "execution_count": 96,
     "metadata": {},
     "output_type": "execute_result"
    }
   ],
   "source": [
    "# took much more time thats why its stoped\n",
    "'''from sklearn.svm import SVC\n",
    "# Building a model using KNeighborsClassifier \n",
    "sv = SVC(kernel='linear')\n",
    "\n",
    "sv.fit(xtrain, ytrain)\n",
    "\n",
    "\n",
    "# Evaluate Model\n",
    "sv_eval = evaluate_model(sv, xtest, ytest)\n",
    "\n",
    "# Print result\n",
    "print('Accuracy:', sv_eval['acc'])\n",
    "print('Precision:', sv_eval['prec'])\n",
    "print('Recall:', sv_eval['rec'])\n",
    "print('F1 Score:', sv_eval['f1'])\n",
    "print('Cohens Kappa Score:', sv_eval['kappa'])\n",
    "print('Area Under Curve:', sv_eval['auc'])\n",
    "print('Confusion Matrix:\\n', sv_eval['cm'])'''"
   ]
  },
  {
   "cell_type": "code",
   "execution_count": 98,
   "id": "d6ccdaa8",
   "metadata": {},
   "outputs": [
    {
     "name": "stderr",
     "output_type": "stream",
     "text": [
      "C:\\Users\\amt\\anaconda3\\lib\\site-packages\\sklearn\\preprocessing\\_label.py:98: DataConversionWarning: A column-vector y was passed when a 1d array was expected. Please change the shape of y to (n_samples, ), for example using ravel().\n",
      "  y = column_or_1d(y, warn=True)\n",
      "C:\\Users\\amt\\anaconda3\\lib\\site-packages\\sklearn\\preprocessing\\_label.py:133: DataConversionWarning: A column-vector y was passed when a 1d array was expected. Please change the shape of y to (n_samples, ), for example using ravel().\n",
      "  y = column_or_1d(y, warn=True)\n"
     ]
    },
    {
     "name": "stdout",
     "output_type": "stream",
     "text": [
      "y_prediction: [1 1 0 ... 1 1 0]\n",
      "Accuracy: 0.9594592953350256\n"
     ]
    }
   ],
   "source": [
    "# Split the data into training and testing sets\n",
    "xtrain, xtest, ytrain, ytest = train_test_split(x_new, y_new, test_size=0.3, random_state=42)\n",
    "\n",
    "# Define the individual models\n",
    "model1 = DecisionTreeClassifier(random_state=42)\n",
    "model2 = KNeighborsClassifier(n_neighbors=3)\n",
    "model3 = RandomForestClassifier()\n",
    "model4 = XGBClassifier()\n",
    "model5 = ExtraTreesClassifier()\n",
    "\n",
    "# Create the VotingClassifier ensemble\n",
    "ensemble = VotingClassifier(\n",
    "    estimators=[('dt1', model1), ('knn', model2),('rf1', model3),('xgb', model4),('extra', model5) ],\n",
    "    voting='soft'  # You can also use 'hard' voting\n",
    ")\n",
    "\n",
    "# Train the ensemble model\n",
    "ensemble.fit(xtrain, ytrain)\n",
    "\n",
    "# Make predictions on the test set\n",
    "y_pred = ensemble.predict(xtest)\n",
    "print(\"y_prediction:\", y_pred)\n",
    "\n",
    "# Calculate the accuracy of the ensemble model\n",
    "accuracy = accuracy_score(ytest, y_pred)\n",
    "print(\"Accuracy:\", accuracy)"
   ]
  },
  {
   "cell_type": "markdown",
   "id": "195eb147",
   "metadata": {},
   "source": [
    "# save ai model"
   ]
  },
  {
   "cell_type": "code",
   "execution_count": 118,
   "id": "7a204d77",
   "metadata": {},
   "outputs": [],
   "source": [
    "pickle.dump(extra, open('heart_disease_pridiction','wb'))"
   ]
  },
  {
   "cell_type": "code",
   "execution_count": 119,
   "id": "7972489f",
   "metadata": {},
   "outputs": [],
   "source": [
    "reg = pickle.load(open('heart_disease_pridiction', 'rb'))"
   ]
  },
  {
   "cell_type": "markdown",
   "id": "870fc4a0",
   "metadata": {},
   "source": [
    "# RandomizedSearchCV"
   ]
  },
  {
   "cell_type": "code",
   "execution_count": 120,
   "id": "5119efb9",
   "metadata": {},
   "outputs": [],
   "source": [
    "#just for checking"
   ]
  },
  {
   "cell_type": "code",
   "execution_count": 99,
   "id": "a148beaa",
   "metadata": {},
   "outputs": [
    {
     "name": "stderr",
     "output_type": "stream",
     "text": [
      "C:\\Users\\amt\\anaconda3\\lib\\site-packages\\sklearn\\model_selection\\_validation.py:680: DataConversionWarning: A column-vector y was passed when a 1d array was expected. Please change the shape of y to (n_samples,), for example using ravel().\n",
      "  estimator.fit(X_train, y_train, **fit_params)\n",
      "C:\\Users\\amt\\anaconda3\\lib\\site-packages\\sklearn\\model_selection\\_validation.py:680: DataConversionWarning: A column-vector y was passed when a 1d array was expected. Please change the shape of y to (n_samples,), for example using ravel().\n",
      "  estimator.fit(X_train, y_train, **fit_params)\n",
      "C:\\Users\\amt\\anaconda3\\lib\\site-packages\\sklearn\\model_selection\\_validation.py:680: DataConversionWarning: A column-vector y was passed when a 1d array was expected. Please change the shape of y to (n_samples,), for example using ravel().\n",
      "  estimator.fit(X_train, y_train, **fit_params)\n",
      "C:\\Users\\amt\\anaconda3\\lib\\site-packages\\sklearn\\model_selection\\_validation.py:680: DataConversionWarning: A column-vector y was passed when a 1d array was expected. Please change the shape of y to (n_samples,), for example using ravel().\n",
      "  estimator.fit(X_train, y_train, **fit_params)\n",
      "C:\\Users\\amt\\anaconda3\\lib\\site-packages\\sklearn\\model_selection\\_validation.py:680: DataConversionWarning: A column-vector y was passed when a 1d array was expected. Please change the shape of y to (n_samples,), for example using ravel().\n",
      "  estimator.fit(X_train, y_train, **fit_params)\n",
      "C:\\Users\\amt\\anaconda3\\lib\\site-packages\\sklearn\\model_selection\\_validation.py:680: DataConversionWarning: A column-vector y was passed when a 1d array was expected. Please change the shape of y to (n_samples,), for example using ravel().\n",
      "  estimator.fit(X_train, y_train, **fit_params)\n",
      "C:\\Users\\amt\\anaconda3\\lib\\site-packages\\sklearn\\model_selection\\_validation.py:680: DataConversionWarning: A column-vector y was passed when a 1d array was expected. Please change the shape of y to (n_samples,), for example using ravel().\n",
      "  estimator.fit(X_train, y_train, **fit_params)\n",
      "C:\\Users\\amt\\anaconda3\\lib\\site-packages\\sklearn\\model_selection\\_validation.py:680: DataConversionWarning: A column-vector y was passed when a 1d array was expected. Please change the shape of y to (n_samples,), for example using ravel().\n",
      "  estimator.fit(X_train, y_train, **fit_params)\n",
      "C:\\Users\\amt\\anaconda3\\lib\\site-packages\\sklearn\\model_selection\\_validation.py:680: DataConversionWarning: A column-vector y was passed when a 1d array was expected. Please change the shape of y to (n_samples,), for example using ravel().\n",
      "  estimator.fit(X_train, y_train, **fit_params)\n",
      "C:\\Users\\amt\\anaconda3\\lib\\site-packages\\sklearn\\model_selection\\_validation.py:680: DataConversionWarning: A column-vector y was passed when a 1d array was expected. Please change the shape of y to (n_samples,), for example using ravel().\n",
      "  estimator.fit(X_train, y_train, **fit_params)\n",
      "C:\\Users\\amt\\anaconda3\\lib\\site-packages\\sklearn\\model_selection\\_validation.py:680: DataConversionWarning: A column-vector y was passed when a 1d array was expected. Please change the shape of y to (n_samples,), for example using ravel().\n",
      "  estimator.fit(X_train, y_train, **fit_params)\n",
      "C:\\Users\\amt\\anaconda3\\lib\\site-packages\\sklearn\\model_selection\\_validation.py:680: DataConversionWarning: A column-vector y was passed when a 1d array was expected. Please change the shape of y to (n_samples,), for example using ravel().\n",
      "  estimator.fit(X_train, y_train, **fit_params)\n",
      "C:\\Users\\amt\\anaconda3\\lib\\site-packages\\sklearn\\model_selection\\_validation.py:680: DataConversionWarning: A column-vector y was passed when a 1d array was expected. Please change the shape of y to (n_samples,), for example using ravel().\n",
      "  estimator.fit(X_train, y_train, **fit_params)\n",
      "C:\\Users\\amt\\anaconda3\\lib\\site-packages\\sklearn\\model_selection\\_validation.py:680: DataConversionWarning: A column-vector y was passed when a 1d array was expected. Please change the shape of y to (n_samples,), for example using ravel().\n",
      "  estimator.fit(X_train, y_train, **fit_params)\n",
      "C:\\Users\\amt\\anaconda3\\lib\\site-packages\\sklearn\\model_selection\\_validation.py:680: DataConversionWarning: A column-vector y was passed when a 1d array was expected. Please change the shape of y to (n_samples,), for example using ravel().\n",
      "  estimator.fit(X_train, y_train, **fit_params)\n",
      "C:\\Users\\amt\\anaconda3\\lib\\site-packages\\sklearn\\model_selection\\_validation.py:680: DataConversionWarning: A column-vector y was passed when a 1d array was expected. Please change the shape of y to (n_samples,), for example using ravel().\n",
      "  estimator.fit(X_train, y_train, **fit_params)\n",
      "C:\\Users\\amt\\anaconda3\\lib\\site-packages\\sklearn\\model_selection\\_validation.py:680: DataConversionWarning: A column-vector y was passed when a 1d array was expected. Please change the shape of y to (n_samples,), for example using ravel().\n",
      "  estimator.fit(X_train, y_train, **fit_params)\n",
      "C:\\Users\\amt\\anaconda3\\lib\\site-packages\\sklearn\\model_selection\\_validation.py:680: DataConversionWarning: A column-vector y was passed when a 1d array was expected. Please change the shape of y to (n_samples,), for example using ravel().\n",
      "  estimator.fit(X_train, y_train, **fit_params)\n",
      "C:\\Users\\amt\\anaconda3\\lib\\site-packages\\sklearn\\model_selection\\_validation.py:680: DataConversionWarning: A column-vector y was passed when a 1d array was expected. Please change the shape of y to (n_samples,), for example using ravel().\n",
      "  estimator.fit(X_train, y_train, **fit_params)\n",
      "C:\\Users\\amt\\anaconda3\\lib\\site-packages\\sklearn\\model_selection\\_validation.py:680: DataConversionWarning: A column-vector y was passed when a 1d array was expected. Please change the shape of y to (n_samples,), for example using ravel().\n",
      "  estimator.fit(X_train, y_train, **fit_params)\n",
      "C:\\Users\\amt\\anaconda3\\lib\\site-packages\\sklearn\\model_selection\\_validation.py:680: DataConversionWarning: A column-vector y was passed when a 1d array was expected. Please change the shape of y to (n_samples,), for example using ravel().\n",
      "  estimator.fit(X_train, y_train, **fit_params)\n",
      "C:\\Users\\amt\\anaconda3\\lib\\site-packages\\sklearn\\model_selection\\_validation.py:680: DataConversionWarning: A column-vector y was passed when a 1d array was expected. Please change the shape of y to (n_samples,), for example using ravel().\n",
      "  estimator.fit(X_train, y_train, **fit_params)\n",
      "C:\\Users\\amt\\anaconda3\\lib\\site-packages\\sklearn\\model_selection\\_validation.py:680: DataConversionWarning: A column-vector y was passed when a 1d array was expected. Please change the shape of y to (n_samples,), for example using ravel().\n",
      "  estimator.fit(X_train, y_train, **fit_params)\n",
      "C:\\Users\\amt\\anaconda3\\lib\\site-packages\\sklearn\\model_selection\\_validation.py:680: DataConversionWarning: A column-vector y was passed when a 1d array was expected. Please change the shape of y to (n_samples,), for example using ravel().\n",
      "  estimator.fit(X_train, y_train, **fit_params)\n",
      "C:\\Users\\amt\\anaconda3\\lib\\site-packages\\sklearn\\model_selection\\_validation.py:680: DataConversionWarning: A column-vector y was passed when a 1d array was expected. Please change the shape of y to (n_samples,), for example using ravel().\n",
      "  estimator.fit(X_train, y_train, **fit_params)\n",
      "C:\\Users\\amt\\anaconda3\\lib\\site-packages\\sklearn\\model_selection\\_validation.py:680: DataConversionWarning: A column-vector y was passed when a 1d array was expected. Please change the shape of y to (n_samples,), for example using ravel().\n",
      "  estimator.fit(X_train, y_train, **fit_params)\n",
      "C:\\Users\\amt\\anaconda3\\lib\\site-packages\\sklearn\\model_selection\\_validation.py:680: DataConversionWarning: A column-vector y was passed when a 1d array was expected. Please change the shape of y to (n_samples,), for example using ravel().\n",
      "  estimator.fit(X_train, y_train, **fit_params)\n",
      "C:\\Users\\amt\\anaconda3\\lib\\site-packages\\sklearn\\model_selection\\_validation.py:680: DataConversionWarning: A column-vector y was passed when a 1d array was expected. Please change the shape of y to (n_samples,), for example using ravel().\n",
      "  estimator.fit(X_train, y_train, **fit_params)\n",
      "C:\\Users\\amt\\anaconda3\\lib\\site-packages\\sklearn\\model_selection\\_validation.py:680: DataConversionWarning: A column-vector y was passed when a 1d array was expected. Please change the shape of y to (n_samples,), for example using ravel().\n",
      "  estimator.fit(X_train, y_train, **fit_params)\n"
     ]
    },
    {
     "name": "stderr",
     "output_type": "stream",
     "text": [
      "C:\\Users\\amt\\anaconda3\\lib\\site-packages\\sklearn\\model_selection\\_validation.py:680: DataConversionWarning: A column-vector y was passed when a 1d array was expected. Please change the shape of y to (n_samples,), for example using ravel().\n",
      "  estimator.fit(X_train, y_train, **fit_params)\n",
      "C:\\Users\\amt\\anaconda3\\lib\\site-packages\\sklearn\\model_selection\\_validation.py:680: DataConversionWarning: A column-vector y was passed when a 1d array was expected. Please change the shape of y to (n_samples,), for example using ravel().\n",
      "  estimator.fit(X_train, y_train, **fit_params)\n",
      "C:\\Users\\amt\\anaconda3\\lib\\site-packages\\sklearn\\model_selection\\_validation.py:680: DataConversionWarning: A column-vector y was passed when a 1d array was expected. Please change the shape of y to (n_samples,), for example using ravel().\n",
      "  estimator.fit(X_train, y_train, **fit_params)\n",
      "C:\\Users\\amt\\anaconda3\\lib\\site-packages\\sklearn\\model_selection\\_validation.py:680: DataConversionWarning: A column-vector y was passed when a 1d array was expected. Please change the shape of y to (n_samples,), for example using ravel().\n",
      "  estimator.fit(X_train, y_train, **fit_params)\n",
      "C:\\Users\\amt\\anaconda3\\lib\\site-packages\\sklearn\\model_selection\\_validation.py:680: DataConversionWarning: A column-vector y was passed when a 1d array was expected. Please change the shape of y to (n_samples,), for example using ravel().\n",
      "  estimator.fit(X_train, y_train, **fit_params)\n",
      "C:\\Users\\amt\\anaconda3\\lib\\site-packages\\sklearn\\model_selection\\_validation.py:680: DataConversionWarning: A column-vector y was passed when a 1d array was expected. Please change the shape of y to (n_samples,), for example using ravel().\n",
      "  estimator.fit(X_train, y_train, **fit_params)\n",
      "C:\\Users\\amt\\anaconda3\\lib\\site-packages\\sklearn\\model_selection\\_validation.py:680: DataConversionWarning: A column-vector y was passed when a 1d array was expected. Please change the shape of y to (n_samples,), for example using ravel().\n",
      "  estimator.fit(X_train, y_train, **fit_params)\n",
      "C:\\Users\\amt\\anaconda3\\lib\\site-packages\\sklearn\\model_selection\\_validation.py:680: DataConversionWarning: A column-vector y was passed when a 1d array was expected. Please change the shape of y to (n_samples,), for example using ravel().\n",
      "  estimator.fit(X_train, y_train, **fit_params)\n",
      "C:\\Users\\amt\\anaconda3\\lib\\site-packages\\sklearn\\model_selection\\_validation.py:680: DataConversionWarning: A column-vector y was passed when a 1d array was expected. Please change the shape of y to (n_samples,), for example using ravel().\n",
      "  estimator.fit(X_train, y_train, **fit_params)\n",
      "C:\\Users\\amt\\anaconda3\\lib\\site-packages\\sklearn\\model_selection\\_validation.py:680: DataConversionWarning: A column-vector y was passed when a 1d array was expected. Please change the shape of y to (n_samples,), for example using ravel().\n",
      "  estimator.fit(X_train, y_train, **fit_params)\n",
      "C:\\Users\\amt\\anaconda3\\lib\\site-packages\\sklearn\\model_selection\\_validation.py:680: DataConversionWarning: A column-vector y was passed when a 1d array was expected. Please change the shape of y to (n_samples,), for example using ravel().\n",
      "  estimator.fit(X_train, y_train, **fit_params)\n",
      "C:\\Users\\amt\\anaconda3\\lib\\site-packages\\sklearn\\model_selection\\_validation.py:680: DataConversionWarning: A column-vector y was passed when a 1d array was expected. Please change the shape of y to (n_samples,), for example using ravel().\n",
      "  estimator.fit(X_train, y_train, **fit_params)\n",
      "C:\\Users\\amt\\anaconda3\\lib\\site-packages\\sklearn\\model_selection\\_validation.py:680: DataConversionWarning: A column-vector y was passed when a 1d array was expected. Please change the shape of y to (n_samples,), for example using ravel().\n",
      "  estimator.fit(X_train, y_train, **fit_params)\n",
      "C:\\Users\\amt\\anaconda3\\lib\\site-packages\\sklearn\\model_selection\\_validation.py:680: DataConversionWarning: A column-vector y was passed when a 1d array was expected. Please change the shape of y to (n_samples,), for example using ravel().\n",
      "  estimator.fit(X_train, y_train, **fit_params)\n",
      "C:\\Users\\amt\\anaconda3\\lib\\site-packages\\sklearn\\model_selection\\_validation.py:680: DataConversionWarning: A column-vector y was passed when a 1d array was expected. Please change the shape of y to (n_samples,), for example using ravel().\n",
      "  estimator.fit(X_train, y_train, **fit_params)\n",
      "C:\\Users\\amt\\anaconda3\\lib\\site-packages\\sklearn\\model_selection\\_validation.py:680: DataConversionWarning: A column-vector y was passed when a 1d array was expected. Please change the shape of y to (n_samples,), for example using ravel().\n",
      "  estimator.fit(X_train, y_train, **fit_params)\n",
      "C:\\Users\\amt\\anaconda3\\lib\\site-packages\\sklearn\\model_selection\\_validation.py:680: DataConversionWarning: A column-vector y was passed when a 1d array was expected. Please change the shape of y to (n_samples,), for example using ravel().\n",
      "  estimator.fit(X_train, y_train, **fit_params)\n",
      "C:\\Users\\amt\\anaconda3\\lib\\site-packages\\sklearn\\model_selection\\_validation.py:680: DataConversionWarning: A column-vector y was passed when a 1d array was expected. Please change the shape of y to (n_samples,), for example using ravel().\n",
      "  estimator.fit(X_train, y_train, **fit_params)\n",
      "C:\\Users\\amt\\anaconda3\\lib\\site-packages\\sklearn\\model_selection\\_validation.py:680: DataConversionWarning: A column-vector y was passed when a 1d array was expected. Please change the shape of y to (n_samples,), for example using ravel().\n",
      "  estimator.fit(X_train, y_train, **fit_params)\n",
      "C:\\Users\\amt\\anaconda3\\lib\\site-packages\\sklearn\\model_selection\\_validation.py:680: DataConversionWarning: A column-vector y was passed when a 1d array was expected. Please change the shape of y to (n_samples,), for example using ravel().\n",
      "  estimator.fit(X_train, y_train, **fit_params)\n",
      "C:\\Users\\amt\\anaconda3\\lib\\site-packages\\sklearn\\model_selection\\_validation.py:680: DataConversionWarning: A column-vector y was passed when a 1d array was expected. Please change the shape of y to (n_samples,), for example using ravel().\n",
      "  estimator.fit(X_train, y_train, **fit_params)\n",
      "C:\\Users\\amt\\anaconda3\\lib\\site-packages\\sklearn\\model_selection\\_search.py:926: DataConversionWarning: A column-vector y was passed when a 1d array was expected. Please change the shape of y to (n_samples,), for example using ravel().\n",
      "  self.best_estimator_.fit(X, y, **fit_params)\n"
     ]
    },
    {
     "name": "stdout",
     "output_type": "stream",
     "text": [
      "Best Parameters:  {'bootstrap': True, 'criterion': 'gini', 'max_depth': 9, 'max_features': 'log2', 'min_samples_leaf': 3, 'min_samples_split': 12, 'n_estimators': 92}\n",
      "Best Score:  0.7628672695577923\n",
      "Test Score:  0.7640125338547676\n"
     ]
    }
   ],
   "source": [
    "# Define the hyperparameter distribution\n",
    "param_dist = {\n",
    "    'n_estimators': sp_randint(20, 300),\n",
    "    'max_features' : ['sqrt','log2'],\n",
    "    'criterion' : ['gini','entropy'],\n",
    "    'max_depth': sp_randint(3, 10),\n",
    "    'min_samples_split': sp_randint(2, 20),\n",
    "    'min_samples_leaf': sp_randint(1, 10),\n",
    "    'bootstrap': [True, False]\n",
    "}\n",
    "\n",
    "# Create the model\n",
    "model = RandomForestClassifier()\n",
    "\n",
    "# Perform random search\n",
    "random_search = RandomizedSearchCV(model, param_distributions=param_dist, n_iter=10, cv=5)\n",
    "random_search.fit(x_new, y_new)\n",
    "\n",
    "# Get the best hyperparameter values\n",
    "best_params = random_search.best_params_\n",
    "# Print the best parameter values and the corresponding accuracy score\n",
    "print(\"Best Parameters: \", random_search.best_params_)\n",
    "print(\"Best Score: \", random_search.best_score_)\n",
    "\n",
    "print(\"Test Score: \", random_search.score(xtest, ytest))\n",
    "\n"
   ]
  },
  {
   "cell_type": "code",
   "execution_count": 100,
   "id": "2cab54e7",
   "metadata": {},
   "outputs": [],
   "source": [
    "rf1 = random_search.best_estimator_"
   ]
  },
  {
   "cell_type": "code",
   "execution_count": 101,
   "id": "0f162833",
   "metadata": {},
   "outputs": [
    {
     "name": "stderr",
     "output_type": "stream",
     "text": [
      "C:\\Users\\amt\\AppData\\Local\\Temp\\ipykernel_4756\\949757817.py:1: DataConversionWarning: A column-vector y was passed when a 1d array was expected. Please change the shape of y to (n_samples,), for example using ravel().\n",
      "  rf1.fit(xtrain, ytrain) # training again\n"
     ]
    },
    {
     "data": {
      "text/plain": [
       "RandomForestClassifier(max_depth=9, max_features='log2', min_samples_leaf=3,\n",
       "                       min_samples_split=12, n_estimators=92)"
      ]
     },
     "execution_count": 101,
     "metadata": {},
     "output_type": "execute_result"
    }
   ],
   "source": [
    "rf1.fit(xtrain, ytrain) # training again"
   ]
  },
  {
   "cell_type": "code",
   "execution_count": 102,
   "id": "afc3d1c2",
   "metadata": {},
   "outputs": [
    {
     "data": {
      "text/plain": [
       "0.7639700256263892"
      ]
     },
     "execution_count": 102,
     "metadata": {},
     "output_type": "execute_result"
    }
   ],
   "source": [
    "rf1.score(xtest, ytest)"
   ]
  }
 ],
 "metadata": {
  "kernelspec": {
   "display_name": "Python 3 (ipykernel)",
   "language": "python",
   "name": "python3"
  },
  "language_info": {
   "codemirror_mode": {
    "name": "ipython",
    "version": 3
   },
   "file_extension": ".py",
   "mimetype": "text/x-python",
   "name": "python",
   "nbconvert_exporter": "python",
   "pygments_lexer": "ipython3",
   "version": "3.9.13"
  }
 },
 "nbformat": 4,
 "nbformat_minor": 5
}
