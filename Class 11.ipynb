{
 "cells": [
  {
   "cell_type": "code",
   "execution_count": 1,
   "id": "96aadb84",
   "metadata": {},
   "outputs": [],
   "source": [
    "import pandas as pd\n",
    "import numpy as np"
   ]
  },
  {
   "cell_type": "code",
   "execution_count": 2,
   "id": "14e1ce62",
   "metadata": {},
   "outputs": [],
   "source": [
    "df = pd.read_csv('data.csv')"
   ]
  },
  {
   "cell_type": "code",
   "execution_count": 3,
   "id": "348091d2",
   "metadata": {},
   "outputs": [
    {
     "data": {
      "text/html": [
       "<div>\n",
       "<style scoped>\n",
       "    .dataframe tbody tr th:only-of-type {\n",
       "        vertical-align: middle;\n",
       "    }\n",
       "\n",
       "    .dataframe tbody tr th {\n",
       "        vertical-align: top;\n",
       "    }\n",
       "\n",
       "    .dataframe thead th {\n",
       "        text-align: right;\n",
       "    }\n",
       "</style>\n",
       "<table border=\"1\" class=\"dataframe\">\n",
       "  <thead>\n",
       "    <tr style=\"text-align: right;\">\n",
       "      <th></th>\n",
       "      <th>x</th>\n",
       "      <th>y</th>\n",
       "    </tr>\n",
       "  </thead>\n",
       "  <tbody>\n",
       "    <tr>\n",
       "      <th>0</th>\n",
       "      <td>48.955889</td>\n",
       "      <td>60.723602</td>\n",
       "    </tr>\n",
       "    <tr>\n",
       "      <th>1</th>\n",
       "      <td>44.687196</td>\n",
       "      <td>82.892504</td>\n",
       "    </tr>\n",
       "    <tr>\n",
       "      <th>2</th>\n",
       "      <td>60.297327</td>\n",
       "      <td>97.379897</td>\n",
       "    </tr>\n",
       "    <tr>\n",
       "      <th>3</th>\n",
       "      <td>45.618644</td>\n",
       "      <td>48.847153</td>\n",
       "    </tr>\n",
       "    <tr>\n",
       "      <th>4</th>\n",
       "      <td>38.816818</td>\n",
       "      <td>56.877213</td>\n",
       "    </tr>\n",
       "  </tbody>\n",
       "</table>\n",
       "</div>"
      ],
      "text/plain": [
       "           x          y\n",
       "0  48.955889  60.723602\n",
       "1  44.687196  82.892504\n",
       "2  60.297327  97.379897\n",
       "3  45.618644  48.847153\n",
       "4  38.816818  56.877213"
      ]
     },
     "execution_count": 3,
     "metadata": {},
     "output_type": "execute_result"
    }
   ],
   "source": [
    "df.head()"
   ]
  },
  {
   "cell_type": "code",
   "execution_count": 4,
   "id": "8e8f6324",
   "metadata": {},
   "outputs": [],
   "source": [
    "x=df['x']\n",
    "y=df['y']"
   ]
  },
  {
   "cell_type": "code",
   "execution_count": 6,
   "id": "06571ce1",
   "metadata": {},
   "outputs": [
    {
     "data": {
      "text/plain": [
       "0    48.955889\n",
       "1    44.687196\n",
       "2    60.297327\n",
       "3    45.618644\n",
       "4    38.816818\n",
       "Name: x, dtype: float64"
      ]
     },
     "execution_count": 6,
     "metadata": {},
     "output_type": "execute_result"
    }
   ],
   "source": [
    "x.head()"
   ]
  },
  {
   "cell_type": "markdown",
   "id": "dfe4131d",
   "metadata": {},
   "source": [
    "# Linear Regression using Gredient Decent "
   ]
  },
  {
   "cell_type": "code",
   "execution_count": 7,
   "id": "0bdffa85",
   "metadata": {},
   "outputs": [
    {
     "name": "stdout",
     "output_type": "stream",
     "text": [
      "1.4809270431911752 0.03630800912185734\n"
     ]
    }
   ],
   "source": [
    "#initaially\n",
    "m = 0\n",
    "c = 0\n",
    "\n",
    "learning_rate = 0.0001\n",
    "n = int(len(x))\n",
    "\n",
    "\n",
    "for i in range(100):\n",
    "    pred = (m*x) + c\n",
    "    der_m = (-2/n)*sum(x*(y-pred))\n",
    "    der_c = (-2/n)*sum((y-pred))\n",
    "    \n",
    "    #update\n",
    "    m = m-(learning_rate*der_m)\n",
    "    c = c-(learning_rate*der_c)\n",
    "    \n",
    "print(m,c)"
   ]
  },
  {
   "cell_type": "code",
   "execution_count": null,
   "id": "d7dfddc0",
   "metadata": {},
   "outputs": [],
   "source": [
    "#y=mx+c\n",
    "#y=1.4809270431911752*x + 0.03630800912185734"
   ]
  },
  {
   "cell_type": "code",
   "execution_count": 8,
   "id": "5b7f4d6d",
   "metadata": {},
   "outputs": [
    {
     "name": "stdout",
     "output_type": "stream",
     "text": [
      "0.7424335285442664 0.014629895049575754\n",
      "1.1126970531591416 0.021962519495058154\n",
      "1.2973530613155333 0.025655870599552186\n",
      "1.3894434413955663 0.0275342538687902\n",
      "1.4353697670010162 0.028507481513901093\n",
      "1.4582732927878312 0.029029292372442533\n",
      "1.4696949563898791 0.029325973726768786\n",
      "1.4753904198682315 0.02951037889671325\n",
      "1.4782301298722174 0.0296387897539973\n",
      "1.4796456270098886 0.029739275026144867\n",
      "1.4803508449518048 0.029825833065392132\n",
      "1.4807018345728706 0.029905445088297247\n",
      "1.4808761645055069 0.029981592746402\n",
      "1.4809623912494785 0.03005601239860092\n",
      "1.4810046794387284 0.030129569996634964\n",
      "1.481025054728025 0.03020269740538055\n",
      "1.481034501686347 0.030275610003205215\n",
      "1.4810384985052363 0.03034841520296925\n",
      "1.4810397772520703 0.03042116657329655\n",
      "1.4810397004553588 0.03049389082977374\n",
      "1.481038947631264 0.03056660129592062\n",
      "1.4810378576660637 0.030639304616405304\n",
      "1.4810365995681134 0.030712004105038864\n",
      "1.4810352576247567 0.03078470141447726\n",
      "1.481033873871527 0.030857397368930135\n",
      "1.4810324692722603 0.03093009237944684\n",
      "1.4810310542819782 0.031002786651026657\n",
      "1.4810296341147784 0.031075480285908192\n",
      "1.4810282113710196 0.03114817333508155\n",
      "1.4810267873475451 0.03122086582397834\n",
      "1.481025362691113 0.03129355776528371\n",
      "1.481023937724272 0.03136624916532594\n",
      "1.481022512607883 0.03143894002726301\n",
      "1.48102108742217 0.03151163035267184\n",
      "1.4810196622071419 0.031584320142340847\n",
      "1.4810182369827516 0.03165700939666519\n",
      "1.4810168117589502 0.03172969811584392\n",
      "1.4810153865407003 0.03180238629997828\n",
      "1.4810139613304771 0.031875073949120744\n",
      "1.4810125361295146 0.03194776106329944\n",
      "1.4810111109384283 0.032020447642530384\n",
      "1.4810096857575252 0.03209313368682352\n",
      "1.4810082605869583 0.032165819196185795\n",
      "1.481006835426804 0.03223850417062264\n",
      "1.4810054102771 0.03231118861013874\n",
      "1.4810039851378654 0.032383872514738406\n",
      "1.4810025600091097 0.03245655588442576\n",
      "1.4810011348908374 0.03252923871920483\n",
      "1.4809997097830507 0.03260192101907959\n",
      "1.480998284685751 0.03267460278405401\n",
      "1.4809968595989385 0.032747284014132044\n",
      "1.4809954345226135 0.03281996470931762\n",
      "1.4809940094567762 0.032892644869614684\n",
      "1.4809925844014264 0.032965324495027176\n",
      "1.4809911593565643 0.03303800358555903\n",
      "1.4809897343221896 0.03311068214121418\n",
      "1.4809883092983023 0.03318336016199657\n",
      "1.4809868842849023 0.03325603764791013\n",
      "1.4809854592819898 0.0333287145989588\n",
      "1.4809840342895644 0.03340139101514652\n",
      "1.4809826093076262 0.033474066896477216\n",
      "1.480981184336175 0.033546742242954834\n",
      "1.4809797593752108 0.0336194170545833\n",
      "1.4809783344247336 0.03369209133136656\n",
      "1.4809769094847431 0.03376476507330854\n",
      "1.4809754845552392 0.03383743828041319\n",
      "1.4809740596362222 0.03391011095268444\n",
      "1.4809726347276917 0.03398278309012622\n",
      "1.4809712098296477 0.03405545469274247\n",
      "1.4809697849420902 0.03412812576053713\n",
      "1.480968360065019 0.03420079629351413\n",
      "1.480966935198434 0.03427346629167741\n",
      "1.4809655103423354 0.0343461357550309\n",
      "1.480964085496723 0.034418804683578545\n",
      "1.4809626606615964 0.034491473077324274\n",
      "1.480961235836956 0.034564140936272025\n",
      "1.4809598110228013 0.034636808260425735\n",
      "1.4809583862191324 0.034709475049789336\n",
      "1.4809569614259495 0.03478214130436677\n",
      "1.480955536643252 0.034854807024161966\n",
      "1.4809541118710403 0.03492747220917886\n",
      "1.480952687109314 0.035000136859421396\n",
      "1.480951262358073 0.0350728009748935\n",
      "1.4809498376173176 0.03514546455559912\n",
      "1.4809484128870474 0.03521812760154217\n",
      "1.4809469881672623 0.03529079011272661\n",
      "1.4809455634579625 0.03536345208915636\n",
      "1.4809441387591475 0.03543611353083536\n",
      "1.4809427140708176 0.035508774437767544\n",
      "1.4809412893929725 0.035581434809956854\n",
      "1.4809398647256125 0.035654094647407215\n",
      "1.480938440068737 0.03572675395012257\n",
      "1.4809370154223462 0.035799412718106854\n",
      "1.48093559078644 0.035872070951364\n",
      "1.4809341661610185 0.03594472864989794\n",
      "1.4809327415460813 0.03601738581371262\n",
      "1.4809313169416285 0.036090042442811957\n",
      "1.48092989234766 0.0361626985371999\n",
      "1.4809284677641754 0.03623535409688038\n",
      "1.4809270431911752 0.03630800912185734\n"
     ]
    }
   ],
   "source": [
    "#initaially\n",
    "m = 0\n",
    "c = 0\n",
    "learning_rate = 0.0001\n",
    "\n",
    "n = int(len(x))\n",
    "\n",
    "for i in range(100):\n",
    "    pred = (m*x) + c\n",
    "    der_m = (-2/n)*sum(x*(y-pred))\n",
    "    der_c = (-2/n)*sum((y-pred))\n",
    "    \n",
    "    #update\n",
    "    m = m-(learning_rate*der_m)\n",
    "    c = c-(learning_rate*der_c)\n",
    "    \n",
    "    print(m,c)"
   ]
  },
  {
   "cell_type": "code",
   "execution_count": 9,
   "id": "f848a45c",
   "metadata": {},
   "outputs": [
    {
     "data": {
      "text/plain": [
       "72.53640795268723"
      ]
     },
     "execution_count": 9,
     "metadata": {},
     "output_type": "execute_result"
    }
   ],
   "source": [
    "(m*48.955889)+c"
   ]
  },
  {
   "cell_type": "markdown",
   "id": "3e4b19fc",
   "metadata": {},
   "source": [
    "# Least Square"
   ]
  },
  {
   "cell_type": "code",
   "execution_count": 10,
   "id": "7150f5a9",
   "metadata": {},
   "outputs": [],
   "source": [
    "from sklearn.linear_model import LinearRegression"
   ]
  },
  {
   "cell_type": "code",
   "execution_count": 11,
   "id": "53a721db",
   "metadata": {},
   "outputs": [],
   "source": [
    "reg=LinearRegression()"
   ]
  },
  {
   "cell_type": "code",
   "execution_count": 12,
   "id": "6a9c746a",
   "metadata": {},
   "outputs": [
    {
     "data": {
      "text/plain": [
       "LinearRegression()"
      ]
     },
     "execution_count": 12,
     "metadata": {},
     "output_type": "execute_result"
    }
   ],
   "source": [
    "reg.fit(df[['x']], df[['y']])"
   ]
  },
  {
   "cell_type": "code",
   "execution_count": 13,
   "id": "7e711246",
   "metadata": {},
   "outputs": [
    {
     "name": "stderr",
     "output_type": "stream",
     "text": [
      "C:\\Users\\rashe\\anaconda3\\lib\\site-packages\\sklearn\\base.py:450: UserWarning: X does not have valid feature names, but LinearRegression was fitted with feature names\n",
      "  warnings.warn(\n"
     ]
    },
    {
     "data": {
      "text/plain": [
       "array([[72.9323307]])"
      ]
     },
     "execution_count": 13,
     "metadata": {},
     "output_type": "execute_result"
    }
   ],
   "source": [
    "reg.predict([[48.955889]])"
   ]
  },
  {
   "cell_type": "code",
   "execution_count": 14,
   "id": "a11d73e3",
   "metadata": {},
   "outputs": [
    {
     "data": {
      "text/plain": [
       "array([[1.28735737]])"
      ]
     },
     "execution_count": 14,
     "metadata": {},
     "output_type": "execute_result"
    }
   ],
   "source": [
    "reg.coef_"
   ]
  },
  {
   "cell_type": "code",
   "execution_count": 15,
   "id": "f5594e84",
   "metadata": {},
   "outputs": [
    {
     "data": {
      "text/plain": [
       "array([9.90860619])"
      ]
     },
     "execution_count": 15,
     "metadata": {},
     "output_type": "execute_result"
    }
   ],
   "source": [
    "reg.intercept_"
   ]
  },
  {
   "cell_type": "code",
   "execution_count": null,
   "id": "5c724bca",
   "metadata": {},
   "outputs": [],
   "source": []
  }
 ],
 "metadata": {
  "kernelspec": {
   "display_name": "Python 3 (ipykernel)",
   "language": "python",
   "name": "python3"
  },
  "language_info": {
   "codemirror_mode": {
    "name": "ipython",
    "version": 3
   },
   "file_extension": ".py",
   "mimetype": "text/x-python",
   "name": "python",
   "nbconvert_exporter": "python",
   "pygments_lexer": "ipython3",
   "version": "3.9.13"
  }
 },
 "nbformat": 4,
 "nbformat_minor": 5
}
